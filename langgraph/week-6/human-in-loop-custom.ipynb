{
 "cells": [
  {
   "cell_type": "code",
   "execution_count": null,
   "id": "673d9dac",
   "metadata": {},
   "outputs": [],
   "source": [
    "from dotenv import load_dotenv\n",
    "import os\n",
    "from azure.identity import DefaultAzureCredential,get_bearer_token_provider\n",
    "from langchain_openai import AzureChatOpenAI\n",
    "from langchain_core.tools import tool\n",
    "from langchain_community.tools.tavily_search import TavilySearchResults\n",
    "from typing  import Literal,Sequence,Annotated,TypedDict\n",
    "import operator\n",
    "from langchain_core.messages import BaseMessage\n",
    "from langgraph.graph import StateGraph,START,END\n",
    "\n",
    "\n",
    "load_dotenv()\n",
    "\n",
    "\n",
    "\n",
    "os.environ[\"LANGCHAIN_TRACING_V2\"] = \"true\"\n",
    "os.environ[\"LANGCHAIN_ENDPOINT\"] = \"https://api.smith.langchain.com\"\n",
    "os.environ[\"LANGCHAIN_API_KEY\"] = os.getenv(\"LANGCHAIN_API_KEY\")  # Update to your API key\n",
    "os.environ[\"TAVILY_API_KEY\"] = os.getenv(\"TAVILY_APIKEY\")\n",
    "\n",
    "\n",
    "token_provider= get_bearer_token_provider(DefaultAzureCredential(), \"https://cognitiveservices.azure.com/.default\")\n",
    "model= AzureChatOpenAI(\n",
    "    api_version=\"2024-12-01-preview\",\n",
    "    azure_endpoint=\"https://azopenai-langchain.openai.azure.com/\",\n",
    "    azure_ad_token_provider= token_provider,\n",
    "    azure_deployment= \"gpt-4o-mini\"\n",
    ")\n",
    "model.invoke(\"HI\").content\n"
   ]
  },
  {
   "cell_type": "code",
   "execution_count": null,
   "id": "364927e3",
   "metadata": {},
   "outputs": [],
   "source": [
    "@tool\n",
    "def multiply(a:int,b:int):\n",
    "    \"\"\" This tool will multiply the given two imput and return the response\"\"\"\n",
    "    return a*b\n",
    "\n",
    "\n",
    "@tool\n",
    "def search(query:str):\n",
    "    \"\"\"search the web for a query and return the respone\"\"\"\n",
    "    web_results= TavilySearchResults(max_results=1).invoke(query)\n",
    "    return f\"Result for {query} is ::  {web_results}\""
   ]
  },
  {
   "cell_type": "code",
   "execution_count": null,
   "id": "75ab47ba",
   "metadata": {},
   "outputs": [],
   "source": [
    "multiply.invoke({\"a\":2,\"b\":3})\n",
    "search.invoke({\"query\":\"Capital of India\"})"
   ]
  },
  {
   "cell_type": "code",
   "execution_count": null,
   "id": "f779766f",
   "metadata": {},
   "outputs": [],
   "source": [
    "tools = [multiply,search ]\n",
    "llm_with_tool = model.bind_tools(tools= tools)\n",
    "result = llm_with_tool.invoke(\"What is the current GDP of India?\")\n",
    "result"
   ]
  },
  {
   "cell_type": "code",
   "execution_count": null,
   "id": "fdf8bbbf",
   "metadata": {},
   "outputs": [],
   "source": [
    "tool_mapping = {tool.name:tool for tool in tools}\n",
    "tool_mapping"
   ]
  },
  {
   "cell_type": "code",
   "execution_count": null,
   "id": "0b6296bd",
   "metadata": {},
   "outputs": [],
   "source": [
    "tool_mapping[result[0][\"name\"]].invoke(\"What is the capital of India\")"
   ]
  },
  {
   "cell_type": "code",
   "execution_count": null,
   "id": "eddf992c",
   "metadata": {},
   "outputs": [],
   "source": [
    "class AgentState(TypedDict):\n",
    "    messages : Annotated[Sequence[BaseMessage],operator.add]"
   ]
  },
  {
   "cell_type": "code",
   "execution_count": 22,
   "id": "5fa08aa0",
   "metadata": {},
   "outputs": [],
   "source": [
    "def invoke_model(state: AgentState):\n",
    "    messages = state[\"messages\"]\n",
    "    last_message = messages[-1]\n",
    "    result = llm_with_tool.invoke(last_message)\n",
    "    #state[\"messages\"].append(result)\n",
    "    return {\"messages\":[result]}\n",
    "\n",
    "def invoke_tool(state: AgentState):\n",
    "    tool_calls = state[\"messages\"][-1].tool_calls\n",
    "    print(f\"selected tool : {tool_calls[0]['name']}\")\n",
    "    if tool_calls[0]['name'] == \"search\":\n",
    "        response = input(prompt=f\"[yes/no] Do you want to call tavily\")\n",
    "        if response.lower() == \"no\":\n",
    "            print(\"rejected\")\n",
    "            raise Exception(\"Web Search discrded by the user\")\n",
    "    response = tool_mapping[tool_calls[0]['name']].invoke(tool_calls[0]['args']) \n",
    "    return {\"messages\":[response]}      \n",
    "\n",
    "\n",
    "def router(state: AgentState):\n",
    "    tool_calls = state[\"messages\"][-1].tool_calls\n",
    "    if len(tool_calls)>0 :\n",
    "        return \"tool\"\n",
    "    else :\n",
    "        return END"
   ]
  },
  {
   "cell_type": "code",
   "execution_count": 23,
   "id": "c9bfbac9",
   "metadata": {},
   "outputs": [
    {
     "data": {
      "image/png": "[encoded data removed]",
      "text/plain": [
       "<langgraph.graph.state.CompiledStateGraph object at 0x0000021574A89F30>"
      ]
     },
     "execution_count": 23,
     "metadata": {},
     "output_type": "execute_result"
    }
   ],
   "source": [
    "graph=StateGraph(AgentState)\n",
    "graph.add_node(\"ai_assistant\",invoke_model)\n",
    "graph.add_node(\"tool\",invoke_tool)\n",
    "graph.add_conditional_edges(\n",
    "    \"ai_assistant\",\n",
    "    router,\n",
    "    {\n",
    "        \"tool\" : \"tool\",\n",
    "        \"end\": END\n",
    "    })\n",
    "graph.add_edge(\"tool\",END)\n",
    "graph.add_edge(START,\"ai_assistant\")\n",
    "compiledgraph= graph.compile()\n",
    "compiledgraph"
   ]
  },
  {
   "cell_type": "code",
   "execution_count": 26,
   "id": "2af8083f",
   "metadata": {},
   "outputs": [
    {
     "name": "stdout",
     "output_type": "stream",
     "text": [
      "selected tool : search\n"
     ]
    },
    {
     "data": {
      "text/plain": [
       "{'messages': ['What is the current GDP of India?',\n",
       "  AIMessage(content='', additional_kwargs={'tool_calls': [{'id': 'call_EMg6jwA7IzeXuur9nIQIa3uh', 'function': {'arguments': '{\"query\":\"current GDP of India 2023\"}', 'name': 'search'}, 'type': 'function'}], 'refusal': None}, response_metadata={'token_usage': {'completion_tokens': 20, 'prompt_tokens': 86, 'total_tokens': 106, 'completion_tokens_details': {'accepted_prediction_tokens': 0, 'audio_tokens': 0, 'reasoning_tokens': 0, 'rejected_prediction_tokens': 0}, 'prompt_tokens_details': {'audio_tokens': 0, 'cached_tokens': 0}}, 'model_name': 'gpt-4o-mini-2024-07-18', 'system_fingerprint': 'fp_57db37749c', 'id': 'chatcmpl-BndgWJNLh1IV9rDgion7jkmz6cWgb', 'service_tier': None, 'prompt_filter_results': [{'prompt_index': 0, 'content_filter_results': {'hate': {'filtered': False, 'severity': 'safe'}, 'jailbreak': {'filtered': False, 'detected': False}, 'self_harm': {'filtered': False, 'severity': 'safe'}, 'sexual': {'filtered': False, 'severity': 'safe'}, 'violence': {'filtered': False, 'severity': 'safe'}}}], 'finish_reason': 'tool_calls', 'logprobs': None, 'content_filter_results': {}}, id='run--d9f39f5c-292a-4269-bd13-084e9792428e-0', tool_calls=[{'name': 'search', 'args': {'query': 'current GDP of India 2023'}, 'id': 'call_EMg6jwA7IzeXuur9nIQIa3uh', 'type': 'tool_call'}], usage_metadata={'input_tokens': 86, 'output_tokens': 20, 'total_tokens': 106, 'input_token_details': {'audio': 0, 'cache_read': 0}, 'output_token_details': {'audio': 0, 'reasoning': 0}}),\n",
       "  \"Result for current GDP of India 2023 is ::  [{'title': 'India GDP - Worldometer', 'url': 'https://www.worldometers.info/gdp/india-gdp/', 'content': 'GDP per Capita in India (with a population of 1,438,069,596 people) was $2,236 in 2023, an increase of $150 from $2,086 in 2022; this represents a change of 7.2% in GDP per capita.', 'score': 0.93525803}]\"]}"
      ]
     },
     "execution_count": 26,
     "metadata": {},
     "output_type": "execute_result"
    }
   ],
   "source": [
    "compiledgraph.invoke({\"messages\":[\"What is the current GDP of India?\"]})"
   ]
  },
  {
   "cell_type": "code",
   "execution_count": 27,
   "id": "0f363471",
   "metadata": {},
   "outputs": [
    {
     "name": "stdout",
     "output_type": "stream",
     "text": [
      "selected tool : multiply\n"
     ]
    },
    {
     "data": {
      "text/plain": [
       "{'messages': ['Multiply 2 with 3',\n",
       "  AIMessage(content='', additional_kwargs={'tool_calls': [{'id': 'call_EjH9oxG1l6zxiErKgpPMcCpS', 'function': {'arguments': '{\"a\":2,\"b\":3}', 'name': 'multiply'}, 'type': 'function'}], 'refusal': None}, response_metadata={'token_usage': {'completion_tokens': 18, 'prompt_tokens': 84, 'total_tokens': 102, 'completion_tokens_details': {'accepted_prediction_tokens': 0, 'audio_tokens': 0, 'reasoning_tokens': 0, 'rejected_prediction_tokens': 0}, 'prompt_tokens_details': {'audio_tokens': 0, 'cached_tokens': 0}}, 'model_name': 'gpt-4o-mini-2024-07-18', 'system_fingerprint': 'fp_efad92c60b', 'id': 'chatcmpl-BndhNoaDtUBiCoGY3cfxkaboc0LKx', 'service_tier': None, 'prompt_filter_results': [{'prompt_index': 0, 'content_filter_results': {'hate': {'filtered': False, 'severity': 'safe'}, 'jailbreak': {'filtered': False, 'detected': False}, 'self_harm': {'filtered': False, 'severity': 'safe'}, 'sexual': {'filtered': False, 'severity': 'safe'}, 'violence': {'filtered': False, 'severity': 'safe'}}}], 'finish_reason': 'tool_calls', 'logprobs': None, 'content_filter_results': {}}, id='run--bcbb2769-63c5-4581-b299-20167a1a25f5-0', tool_calls=[{'name': 'multiply', 'args': {'a': 2, 'b': 3}, 'id': 'call_EjH9oxG1l6zxiErKgpPMcCpS', 'type': 'tool_call'}], usage_metadata={'input_tokens': 84, 'output_tokens': 18, 'total_tokens': 102, 'input_token_details': {'audio': 0, 'cache_read': 0}, 'output_token_details': {'audio': 0, 'reasoning': 0}}),\n",
       "  6]}"
      ]
     },
     "execution_count": 27,
     "metadata": {},
     "output_type": "execute_result"
    }
   ],
   "source": [
    "compiledgraph.invoke({\"messages\":[\"Multiply 2 with 3\"]})"
   ]
  }
 ],
 "metadata": {
  "kernelspec": {
   "display_name": ".venv",
   "language": "python",
   "name": "python3"
  },
  "language_info": {
   "codemirror_mode": {
    "name": "ipython",
    "version": 3
   },
   "file_extension": ".py",
   "mimetype": "text/x-python",
   "name": "python",
   "nbconvert_exporter": "python",
   "pygments_lexer": "ipython3",
   "version": "3.13.2"
  }
 },
 "nbformat": 4,
 "nbformat_minor": 5
}
