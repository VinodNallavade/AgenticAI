{
 "cells": [
  {
   "cell_type": "code",
   "execution_count": 2,
   "id": "3c64bbf1",
   "metadata": {},
   "outputs": [
    {
     "data": {
      "image/png": "[encoded data removed]",
      "text/plain": [
       "<IPython.core.display.Image object>"
      ]
     },
     "metadata": {},
     "output_type": "display_data"
    }
   ],
   "source": [
    "# framework from langchain\n",
    "# Used primarily created for AI Flow\n",
    "\n",
    "\n",
    "\n",
    "from IPython.display import Image,display\n",
    "from langgraph.graph import Graph\n",
    "\n",
    "\n",
    "def greet(state: str) -> str:\n",
    "    name = state.get(\"name\", \"Guest\")\n",
    "    print(f\"👋 Hello, {name}!\")\n",
    "    state[\"greeted\"] = True\n",
    "    return \"Hello\"\n",
    "\n",
    "# Step 2: Goodbye\n",
    "def goodbye(state: str) -> str:\n",
    "    print(\"👋 Goodbye! Have a great day.\")\n",
    "    state[\"done\"] = True\n",
    "    return \"Hello\"\n",
    "\n",
    "# Build the graph using `Graph` instead of `StateGraph`\n",
    "graph = Graph()\n",
    "\n",
    "graph.add_node(node=\"say_hi\", action=greet)\n",
    "graph.add_node(node=\"say_bye\", action=goodbye)\n",
    "\n",
    "# Define entry and transitions manually\n",
    "graph.set_entry_point(\"say_hi\")\n",
    "graph.add_edge(\"say_hi\", \"say_bye\")\n",
    "graph.set_finish_point(\"say_bye\")\n",
    "\n",
    "# Compile and run the graph\n",
    "compiledgraph = graph.compile()\n",
    "\n",
    "\n",
    "display(Image(data=compiledgraph.get_graph().draw_mermaid_png()))"
   ]
  },
  {
   "cell_type": "code",
   "execution_count": 7,
   "id": "3395f783",
   "metadata": {},
   "outputs": [
    {
     "name": "stderr",
     "output_type": "stream",
     "text": [
      "  0%|          | 0/2 [00:00<?, ?it/s]libmagic is unavailable but assists in filetype detection. Please consider installing libmagic for better results.\n",
      " 50%|█████     | 1/2 [00:00<00:00,  9.51it/s]libmagic is unavailable but assists in filetype detection. Please consider installing libmagic for better results.\n",
      "100%|██████████| 2/2 [00:00<00:00, 14.82it/s]\n"
     ]
    },
    {
     "data": {
      "image/png": "[encoded data removed]",
      "text/plain": [
       "<IPython.core.display.Image object>"
      ]
     },
     "metadata": {},
     "output_type": "display_data"
    }
   ],
   "source": [
    "from langchain_openai import AzureOpenAIEmbeddings,AzureChatOpenAI\n",
    "from azure.identity import DefaultAzureCredential,get_bearer_token_provider\n",
    "from langchain_community.document_loaders import TextLoader, DirectoryLoader\n",
    "from langchain_chroma import Chroma \n",
    "from langchain.text_splitter import RecursiveCharacterTextSplitter\n",
    "from pydantic import BaseModel,Field\n",
    "from typing import TypedDict,Annotated,Sequence,Literal\n",
    "from langchain_core.messages import BaseMessage\n",
    "import operator\n",
    "from langgraph.graph import StateGraph,END\n",
    "from langchain.output_parsers import PydanticOutputParser\n",
    "from langchain.prompts import PromptTemplate\n",
    "\n",
    "\n",
    "\n",
    "token_provider= get_bearer_token_provider(DefaultAzureCredential(), \"https://cognitiveservices.azure.com/.default\")\n",
    "\n",
    "\n",
    "embeddingmodel= AzureOpenAIEmbeddings(\n",
    "    api_version=\"2024-12-01-preview\",\n",
    "    azure_endpoint=\"https://azopenai-langchain.openai.azure.com/\",\n",
    "    azure_ad_token_provider= token_provider,\n",
    "    azure_deployment= \"text-embedding-ada-002\",\n",
    "    model= \"text-embedding-ada-002\"\n",
    ")\n",
    "embeddings_date=embeddingmodel.embed_query(\"hello\")\n",
    "#print(len(embeddings_date))\n",
    "\n",
    "\n",
    "model= AzureChatOpenAI(\n",
    "    api_version=\"2024-12-01-preview\",\n",
    "    azure_endpoint=\"https://azopenai-langchain.openai.azure.com/\",\n",
    "    azure_ad_token_provider= token_provider,\n",
    "    azure_deployment= \"gpt-4o-mini\",\n",
    "    model= \"gpt-4o-mini\",\n",
    "    temperature=0,\n",
    "    max_tokens=None,\n",
    "    timeout=None,\n",
    "    max_retries=2\n",
    ")\n",
    "\n",
    "\n",
    "###  Data into Vector DB\n",
    "#Loader\n",
    "loader = DirectoryLoader(\"../data\", glob=\"**/*.txt\", show_progress=True)\n",
    "docs = loader.load()\n",
    "#print(docs[0].page_content)\n",
    "\n",
    "#Textsplitting\n",
    "text_splitter=RecursiveCharacterTextSplitter(chunk_size=200,chunk_overlap=10)\n",
    "chunks=text_splitter.split_documents(docs)\n",
    "#print(chunks)\n",
    "\n",
    "#Store in Chroma\n",
    "vector_store =Chroma(\"ChinaData\",embedding_function=embeddingmodel)\n",
    "vector_store .add_documents(chunks)\n",
    "results = vector_store.similarity_search(\n",
    "    \"For how many years will the recruited experts serve in the think tank?\",\n",
    "    k=2\n",
    ")\n",
    "#print(results)\n",
    "\n",
    "\n",
    "\n",
    "\n",
    "#Creating Pydantic Classes\n",
    "class RoutingDecisionWithReason(BaseModel):\n",
    "    route: Literal[\"LLM Call\", \"Rag Call\"] = Field(description=\"Routing decision\")\n",
    "    reasoning: str = Field(description=\"Reasoning behind the routing decision\")\n",
    "\n",
    "# Parser\n",
    "parser = PydanticOutputParser(pydantic_object=RoutingDecisionWithReason)\n",
    "\n",
    "# Prompt template with partial_variables for parser instructions\n",
    "supervisorprompt = PromptTemplate(\n",
    "    template=(\n",
    "        \"Given the user input below, decide the appropriate routing for processing. If the quetion is based on Focus then go for RAG call\\n\"\n",
    "        \"Respond in JSON format matching the schema.\\n\\n\"\n",
    "        \"{format_instructions}\\n\\n\"\n",
    "        \"User input: {user_input}\"\n",
    "    ),\n",
    "    input_variables=[\"user_input\"],\n",
    "    partial_variables={\"format_instructions\": parser.get_format_instructions()}\n",
    ")\n",
    "\n",
    "#State management class\n",
    "class AgentState(TypedDict):\n",
    "    mesages:Annotated[Sequence[BaseMessage],operator.add]\n",
    "\n",
    "# Adding Functions for LangGraph\n",
    "def Supervisor(state: AgentState):\n",
    "    input=state[\"mesages\"][-1]\n",
    "    print(\"Input\",input)\n",
    "    return \"Hello\"\n",
    "\n",
    "\n",
    "def ragcall(state: AgentState):\n",
    "    return \"Hello\"\n",
    "\n",
    "def llmcall(state: AgentState):\n",
    "    return \"Hello\"\n",
    "\n",
    "def router(state: AgentState):\n",
    "    pass\n",
    "\n",
    "\n",
    "workflow=StateGraph(AgentState)\n",
    "\n",
    "workflow.add_node(\"Supervisor\",Supervisor)\n",
    "workflow.add_node(\"CALL RAG\",ragcall)\n",
    "workflow.add_node(\"CALL LLM\",llmcall)\n",
    "\n",
    "workflow.set_entry_point(\"Supervisor\")\n",
    "workflow.add_conditional_edges(\n",
    "        \"Supervisor\",\n",
    "         router,\n",
    "         {\n",
    "             \"Rag Call\" : \"CALL RAG\",\n",
    "             \"LLM Call\" : \"CALL LLM\"\n",
    "\n",
    "         }\n",
    ")\n",
    "\n",
    "workflow.add_edge(\"CALL RAG\",END)\n",
    "workflow.add_edge(\"CALL LLM\",END)\n",
    "\n",
    "\n",
    "compiledworkflow = workflow.compile()\n",
    "\n",
    "\n",
    "display(Image(data=compiledworkflow.get_graph().draw_mermaid_png()))\n",
    "\n",
    "\n"
   ]
  },
  {
   "cell_type": "code",
   "execution_count": 45,
   "id": "26ec6d41",
   "metadata": {},
   "outputs": [
    {
     "name": "stdout",
     "output_type": "stream",
     "text": [
      "input_variables=['user_input'] input_types={} partial_variables={'format_instructions': 'The output should be formatted as a JSON instance that conforms to the JSON schema below.\\n\\nAs an example, for the schema {\"properties\": {\"foo\": {\"title\": \"Foo\", \"description\": \"a list of strings\", \"type\": \"array\", \"items\": {\"type\": \"string\"}}}, \"required\": [\"foo\"]}\\nthe object {\"foo\": [\"bar\", \"baz\"]} is a well-formatted instance of the schema. The object {\"properties\": {\"foo\": [\"bar\", \"baz\"]}} is not well-formatted.\\n\\nHere is the output schema:\\n```\\n{\"properties\": {\"route\": {\"description\": \"Routing decision\", \"enum\": [\"LLM Call\", \"Rag Call\"], \"title\": \"Route\", \"type\": \"string\"}, \"reasoning\": {\"description\": \"Reasoning behind the routing decision\", \"title\": \"Reasoning\", \"type\": \"string\"}}, \"required\": [\"route\", \"reasoning\"]}\\n```'} template='Given the user input below, decide the appropriate routing for processing. If the quetion is based on Focus then go for RAG call\\nRespond in JSON format matching the schema.\\n\\n{format_instructions}\\n\\nUser input: {user_input}'\n"
     ]
    }
   ],
   "source": [
    "print(supervisorprompt)"
   ]
  },
  {
   "cell_type": "code",
   "execution_count": null,
   "id": "b9e3ff66",
   "metadata": {},
   "outputs": [],
   "source": [
    "# Adding Fnctions for LangGraph\n",
    "def Supervisor(state: AgentState):\n",
    "    question = state[\"messages\"][-1]\n",
    "    chain = supervisorprompt | model | parser\n",
    "    response = chain.invoke({\"user_input\":question})\n",
    "    print(response.route)"
   ]
  },
  {
   "cell_type": "code",
   "execution_count": 48,
   "id": "486f3c19",
   "metadata": {},
   "outputs": [
    {
     "name": "stdout",
     "output_type": "stream",
     "text": [
      "route='Rag Call' reasoning='The question is based on Focus, which requires a RAG call for processing.'\n"
     ]
    }
   ],
   "source": [
    "state = {\"messages\" :[\"Why do we need Focus\"]}\n",
    "Supervisor(state)"
   ]
  }
 ],
 "metadata": {
  "kernelspec": {
   "display_name": ".venv",
   "language": "python",
   "name": "python3"
  },
  "language_info": {
   "codemirror_mode": {
    "name": "ipython",
    "version": 3
   },
   "file_extension": ".py",
   "mimetype": "text/x-python",
   "name": "python",
   "nbconvert_exporter": "python",
   "pygments_lexer": "ipython3",
   "version": "3.13.2"
  }
 },
 "nbformat": 4,
 "nbformat_minor": 5
}
