{
 "cells": [
  {
   "cell_type": "markdown",
   "id": "2a28ecc1",
   "metadata": {},
   "source": [
    "## Good\n"
   ]
  },
  {
   "cell_type": "code",
   "execution_count": 14,
   "id": "34b047aa",
   "metadata": {},
   "outputs": [],
   "source": [
    "import os\n",
    "from azure.identity import DefaultAzureCredential,get_bearer_token_provider\n",
    "from langchain_openai import AzureChatOpenAI\n",
    "from langgraph.graph import MessagesState,StateGraph,START,END\n",
    "from IPython.display import Image,display\n",
    "from langchain_core.messages import HumanMessage,AIMessage\n",
    "from langchain_core.tools import  tool\n",
    "from langgraph.prebuilt import ToolNode\n",
    "from typing import Tuple,Any"
   ]
  },
  {
   "cell_type": "code",
   "execution_count": 19,
   "id": "3a1d1306",
   "metadata": {},
   "outputs": [],
   "source": [
    "\n",
    "from typing import Tuple,Any\n",
    "@tool(response_format=\"content_and_artifact\")\n",
    "def gettemperature(query:str) -> Tuple[str, Any]:\n",
    "    \"\"\" This is a custom tool that will help to ge temperature based on given state \"\"\"\n",
    "    if \"delhi\" in query.lower() :\n",
    "        return \"Today is sunny in Delhi with 38 degree\"\n",
    "    return 'Message for chat model', f\"Today, it is going to rain in {query}\"\n",
    "\n",
    "@tool\n",
    "def multiply(a:int, b: int)->int:\n",
    "    \"\"\"This will mutiply and return the product as response\"\"\"\n",
    "    return a*b"
   ]
  },
  {
   "cell_type": "code",
   "execution_count": 20,
   "id": "bfcbc452",
   "metadata": {},
   "outputs": [
    {
     "data": {
      "text/plain": [
       "'Message for chat model'"
      ]
     },
     "execution_count": 20,
     "metadata": {},
     "output_type": "execute_result"
    }
   ],
   "source": [
    "gettemperature.invoke(\"Pune\")"
   ]
  }
 ],
 "metadata": {
  "kernelspec": {
   "display_name": ".venv",
   "language": "python",
   "name": "python3"
  },
  "language_info": {
   "codemirror_mode": {
    "name": "ipython",
    "version": 3
   },
   "file_extension": ".py",
   "mimetype": "text/x-python",
   "name": "python",
   "nbconvert_exporter": "python",
   "pygments_lexer": "ipython3",
   "version": "3.13.2"
  }
 },
 "nbformat": 4,
 "nbformat_minor": 5
}
