{
 "cells": [
  {
   "cell_type": "code",
   "execution_count": null,
   "id": "4549d29a",
   "metadata": {},
   "outputs": [
    {
     "data": {
      "text/plain": [
       "{'messages': [HumanMessage(content=\"hi, I'm Vinod. how are you?\", additional_kwargs={}, response_metadata={}, id='fb6c02c5-17b8-41e1-a728-4313a453ce69'),\n",
       "  AIMessage(content='', additional_kwargs={'tool_calls': [{'id': 'call_Ra0yT0lH91L3KGH0iqbaoW3w', 'function': {'arguments': '{\"user_name\":\"Vinod\"}', 'name': 'greet'}, 'type': 'function'}], 'refusal': None}, response_metadata={'token_usage': {'completion_tokens': 17, 'prompt_tokens': 93, 'total_tokens': 110, 'completion_tokens_details': {'accepted_prediction_tokens': 0, 'audio_tokens': 0, 'reasoning_tokens': 0, 'rejected_prediction_tokens': 0}, 'prompt_tokens_details': {'audio_tokens': 0, 'cached_tokens': 0}}, 'model_name': 'gpt-4o-mini-2024-07-18', 'system_fingerprint': 'fp_57db37749c', 'id': 'chatcmpl-BjqZAXxA0Ch5yGAFTaNRk03dEdzzP', 'service_tier': None, 'prompt_filter_results': [{'prompt_index': 0, 'content_filter_results': {'hate': {'filtered': False, 'severity': 'safe'}, 'jailbreak': {'filtered': False, 'detected': False}, 'self_harm': {'filtered': False, 'severity': 'safe'}, 'sexual': {'filtered': False, 'severity': 'safe'}, 'violence': {'filtered': False, 'severity': 'safe'}}}], 'finish_reason': 'tool_calls', 'logprobs': None, 'content_filter_results': {}}, id='run--7ba7b82f-2ad1-426d-a67d-de9666982b98-0', tool_calls=[{'name': 'greet', 'args': {'user_name': 'Vinod'}, 'id': 'call_Ra0yT0lH91L3KGH0iqbaoW3w', 'type': 'tool_call'}], usage_metadata={'input_tokens': 93, 'output_tokens': 17, 'total_tokens': 110, 'input_token_details': {'audio': 0, 'cache_read': 0}, 'output_token_details': {'audio': 0, 'reasoning': 0}}),\n",
       "  ToolMessage(content='Hello Vinod! Your User ID is user_123', name='greet', id='e62465c0-63ce-4c3f-9981-e1759dcbc0b2', tool_call_id='call_Ra0yT0lH91L3KGH0iqbaoW3w')]}"
      ]
     },
     "execution_count": 30,
     "metadata": {},
     "output_type": "execute_result"
    },
    {
     "ename": "",
     "evalue": "",
     "output_type": "error",
     "traceback": [
      "\u001b[1;31mThe Kernel crashed while executing code in the current cell or a previous cell. \n",
      "\u001b[1;31mPlease review the code in the cell(s) to identify a possible cause of the failure. \n",
      "\u001b[1;31mClick <a href='https://aka.ms/vscodeJupyterKernelCrash'>here</a> for more info. \n",
      "\u001b[1;31mView Jupyter <a href='command:jupyter.viewOutput'>log</a> for further details."
     ]
    }
   ],
   "source": [
    "from langchain_core.tools import tool\n",
    "from langgraph.prebuilt import create_react_agent\n",
    "\n",
    "from langchain_core.tools import tool\n",
    "from langchain_community.tools import DuckDuckGoSearchRun\n",
    "from azure.identity import DefaultAzureCredential,get_bearer_token_provider\n",
    "from langchain_openai import AzureChatOpenAI\n",
    "from langgraph.graph import StateGraph,MessagesState,START,END\n",
    "from langgraph.prebuilt import ToolNode,tools_condition\n",
    "from IPython.display import display,Image\n",
    "from langchain_core.messages import HumanMessage,AIMessage\n",
    "import yfinance as yf\n",
    "from langgraph.checkpoint.memory import MemorySaver\n",
    "from langchain_core.messages import trim_messages\n",
    "from langchain_core.runnables import RunnableConfig\n",
    "\n",
    "@tool(return_direct=False)\n",
    "def add(a: int, b: int) -> int:\n",
    "    \"\"\"Add two numbers\"\"\"\n",
    "    return a + b\n",
    "\n",
    "@tool(return_direct=True)\n",
    "def greet(user_name: str,config: RunnableConfig) -> int:\n",
    "    \"\"\"Greet user.\"\"\"\n",
    "    user_id = config[\"configurable\"].get(\"user_id\")\n",
    "    return f\"Hello {user_name}! Your User ID is {user_id}\"\n",
    "\n",
    "@tool(return_direct=True)\n",
    "def multiply(a: int, b: int) -> int:\n",
    "    \"\"\"Multiply two numbers.\"\"\"\n",
    "    if a == 42:\n",
    "        raise ValueError(\"The ultimate error\")\n",
    "    return a * b\n",
    "\n",
    "\n",
    "token_provider= get_bearer_token_provider(DefaultAzureCredential(),\"https://cognitiveservices.azure.com/.default\")\n",
    "chatmodel = AzureChatOpenAI(\n",
    "    api_version=\"2024-12-01-preview\",\n",
    "    azure_endpoint=\"https://azopenai-langchain.openai.azure.com/\",\n",
    "    azure_ad_token_provider= token_provider,\n",
    "    model= \"gpt-4o-mini\"\n",
    ")\n",
    "tools=[add,greet,multiply]\n",
    "agent = create_react_agent(\n",
    "    # disable parallel tool calls\n",
    "    model=chatmodel.bind_tools(tools, parallel_tool_calls=False,tool_choice=\"auto\"),\n",
    "    tools=tools\n",
    ")\n",
    "\n",
    "agent.invoke(\n",
    "    {\"messages\": [{\"role\": \"user\", \"content\": \"hi, I'm Vinod. how are you?\"}]},\n",
    "    config={\"configurable\": {\"user_id\": \"user_123\"}}\n",
    ")"
   ]
  }
 ],
 "metadata": {
  "kernelspec": {
   "display_name": ".venv",
   "language": "python",
   "name": "python3"
  },
  "language_info": {
   "codemirror_mode": {
    "name": "ipython",
    "version": 3
   },
   "file_extension": ".py",
   "mimetype": "text/x-python",
   "name": "python",
   "nbconvert_exporter": "python",
   "pygments_lexer": "ipython3",
   "version": "3.13.2"
  }
 },
 "nbformat": 4,
 "nbformat_minor": 5
}
