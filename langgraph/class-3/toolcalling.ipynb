{
 "cells": [
  {
   "cell_type": "code",
   "execution_count": 79,
   "id": "8d91c48e",
   "metadata": {},
   "outputs": [],
   "source": [
    "import os\n",
    "from azure.identity import DefaultAzureCredential,get_bearer_token_provider\n",
    "from langchain_openai import AzureChatOpenAI\n",
    "from langgraph.graph import MessagesState,StateGraph,START,END\n",
    "from IPython.display import Image,display\n",
    "from langchain_core.messages import HumanMessage\n",
    "from langchain_core.tools import  tool\n",
    "from langgraph.prebuilt import ToolNode"
   ]
  },
  {
   "cell_type": "code",
   "execution_count": 7,
   "id": "9f02dff4",
   "metadata": {},
   "outputs": [
    {
     "data": {
      "text/plain": [
       "'Hello! How can I assist you today?'"
      ]
     },
     "execution_count": 7,
     "metadata": {},
     "output_type": "execute_result"
    }
   ],
   "source": [
    "token_provider= get_bearer_token_provider(DefaultAzureCredential(),\"https://cognitiveservices.azure.com/.default\")\n",
    "chatmodel = AzureChatOpenAI(\n",
    "    api_version=\"2024-12-01-preview\",\n",
    "    azure_endpoint=\"https://azopenai-langchain.openai.azure.com/\",\n",
    "    azure_ad_token_provider= token_provider,\n",
    "    model= \"gpt-4o-mini\"\n",
    ")\n",
    "aimessage= chatmodel.invoke(\"hi\")\n",
    "aimessage.content"
   ]
  },
  {
   "cell_type": "code",
   "execution_count": 48,
   "id": "7f8bb8b4",
   "metadata": {},
   "outputs": [],
   "source": [
    "def call_model(state:MessagesState) -> MessagesState:\n",
    "    input = state['messages']\n",
    "    response = chatmodel.invoke(input)\n",
    "    state['messages']=response\n",
    "    return state\n"
   ]
  },
  {
   "cell_type": "code",
   "execution_count": 44,
   "id": "33238914",
   "metadata": {},
   "outputs": [
    {
     "data": {
      "text/plain": [
       "{'messages': AIMessage(content=\"I'm just a program, so I don't have feelings, but I'm here and ready to help you! How can I assist you today?\", additional_kwargs={'refusal': None}, response_metadata={'token_usage': {'completion_tokens': 28, 'prompt_tokens': 11, 'total_tokens': 39, 'completion_tokens_details': {'accepted_prediction_tokens': 0, 'audio_tokens': 0, 'reasoning_tokens': 0, 'rejected_prediction_tokens': 0}, 'prompt_tokens_details': {'audio_tokens': 0, 'cached_tokens': 0}}, 'model_name': 'gpt-4o-mini-2024-07-18', 'system_fingerprint': 'fp_57db37749c', 'id': 'chatcmpl-BiC4RmaPduKy6LjBCD7W5GiIOESwV', 'service_tier': None, 'prompt_filter_results': [{'prompt_index': 0, 'content_filter_results': {'hate': {'filtered': False, 'severity': 'safe'}, 'jailbreak': {'filtered': False, 'detected': False}, 'self_harm': {'filtered': False, 'severity': 'safe'}, 'sexual': {'filtered': False, 'severity': 'safe'}, 'violence': {'filtered': False, 'severity': 'safe'}}}], 'finish_reason': 'stop', 'logprobs': None, 'content_filter_results': {'hate': {'filtered': False, 'severity': 'safe'}, 'self_harm': {'filtered': False, 'severity': 'safe'}, 'sexual': {'filtered': False, 'severity': 'safe'}, 'violence': {'filtered': False, 'severity': 'safe'}}}, id='run--32afeb3d-8140-41c1-836c-725928a51e3e-0', usage_metadata={'input_tokens': 11, 'output_tokens': 28, 'total_tokens': 39, 'input_token_details': {'audio': 0, 'cache_read': 0}, 'output_token_details': {'audio': 0, 'reasoning': 0}})}"
      ]
     },
     "execution_count": 44,
     "metadata": {},
     "output_type": "execute_result"
    }
   ],
   "source": [
    "call_model({\"messages\":[\"How are you?\"]})"
   ]
  },
  {
   "cell_type": "code",
   "execution_count": 49,
   "id": "8a12580f",
   "metadata": {},
   "outputs": [
    {
     "data": {
      "image/png": "[encoded data removed]",
      "text/plain": [
       "<IPython.core.display.Image object>"
      ]
     },
     "metadata": {},
     "output_type": "display_data"
    }
   ],
   "source": [
    "graph= StateGraph(MessagesState)\n",
    "graph.add_node(\"mybot\",call_model)\n",
    "\n",
    "\n",
    "\n",
    "graph.add_edge(START,\"mybot\")\n",
    "graph.add_edge(\"mybot\",END)\n",
    "compiledgraph = graph.compile()\n",
    "\n",
    "display(Image(compiledgraph.get_graph().draw_mermaid_png()))"
   ]
  },
  {
   "cell_type": "code",
   "execution_count": 51,
   "id": "a9bc8b99",
   "metadata": {},
   "outputs": [
    {
     "data": {
      "text/plain": [
       "{'messages': [HumanMessage(content='How are you?', additional_kwargs={}, response_metadata={}, id='a3a9de7a-54d4-4d46-9edc-dbc7254f7734'),\n",
       "  AIMessage(content=\"I'm just a program, so I don't have feelings, but I'm here and ready to help you! How can I assist you today?\", additional_kwargs={'refusal': None}, response_metadata={'token_usage': {'completion_tokens': 28, 'prompt_tokens': 11, 'total_tokens': 39, 'completion_tokens_details': {'accepted_prediction_tokens': 0, 'audio_tokens': 0, 'reasoning_tokens': 0, 'rejected_prediction_tokens': 0}, 'prompt_tokens_details': {'audio_tokens': 0, 'cached_tokens': 0}}, 'model_name': 'gpt-4o-mini-2024-07-18', 'system_fingerprint': 'fp_57db37749c', 'id': 'chatcmpl-BiC5HN3mXnPkm6z3t8JplyGpFAOG2', 'service_tier': None, 'prompt_filter_results': [{'prompt_index': 0, 'content_filter_results': {'hate': {'filtered': False, 'severity': 'safe'}, 'jailbreak': {'filtered': False, 'detected': False}, 'self_harm': {'filtered': False, 'severity': 'safe'}, 'sexual': {'filtered': False, 'severity': 'safe'}, 'violence': {'filtered': False, 'severity': 'safe'}}}], 'finish_reason': 'stop', 'logprobs': None, 'content_filter_results': {'hate': {'filtered': False, 'severity': 'safe'}, 'self_harm': {'filtered': False, 'severity': 'safe'}, 'sexual': {'filtered': False, 'severity': 'safe'}, 'violence': {'filtered': False, 'severity': 'safe'}}}, id='run--c8d42bde-8f34-4bb1-8b12-c4aabbe3cc9b-0', usage_metadata={'input_tokens': 11, 'output_tokens': 28, 'total_tokens': 39, 'input_token_details': {'audio': 0, 'cache_read': 0}, 'output_token_details': {'audio': 0, 'reasoning': 0}})]}"
      ]
     },
     "execution_count": 51,
     "metadata": {},
     "output_type": "execute_result"
    }
   ],
   "source": [
    "compiledgraph.invoke({\"messages\":[HumanMessage(content=\"How are you?\")]})"
   ]
  },
  {
   "cell_type": "code",
   "execution_count": 60,
   "id": "62650d1a",
   "metadata": {},
   "outputs": [],
   "source": [
    "## tools\n",
    "\n",
    "@tool\n",
    "def gettemperature(query:str) -> str:\n",
    "    \"\"\" This is a custom tool that will help to ge temperature based on given state \"\"\"\n",
    "    if \"delhi\" in query.lower() :\n",
    "        return \"Today is sunny in Delhi with 38 degree\"\n",
    "    return f\"Today, it is going to rain in {query}\"\n",
    "\n",
    "@tool\n",
    "def multiply(a:int, b: int)->int:\n",
    "    \"\"\"This will mutiply and return the product as response\"\"\"\n",
    "    return a*b"
   ]
  },
  {
   "cell_type": "code",
   "execution_count": 55,
   "id": "527f6037",
   "metadata": {},
   "outputs": [
    {
     "name": "stdout",
     "output_type": "stream",
     "text": [
      "{'query': {'title': 'Query', 'type': 'string'}}\n",
      "This is a custom tool that will help to ge temperature based on given state\n",
      "gettemperature\n"
     ]
    }
   ],
   "source": [
    "print(gettemperature.args)\n",
    "print(gettemperature.description)\n",
    "print(gettemperature.name)"
   ]
  },
  {
   "cell_type": "code",
   "execution_count": 80,
   "id": "31ac61a7",
   "metadata": {},
   "outputs": [
    {
     "data": {
      "text/plain": [
       "tools(tags=None, recurse=True, explode_args=False, func_accepts_config=True, func_accepts={'store': ('__pregel_store', None)}, tools_by_name={'gettemperature': StructuredTool(name='gettemperature', description='This is a custom tool that will help to ge temperature based on given state', args_schema=<class 'langchain_core.utils.pydantic.gettemperature'>, func=<function gettemperature at 0x00000269C7790680>), 'multiply': StructuredTool(name='multiply', description='This will mutiply and return the product as response', args_schema=<class 'langchain_core.utils.pydantic.multiply'>, func=<function multiply at 0x00000269C7790400>)}, tool_to_state_args={'gettemperature': {}, 'multiply': {}}, tool_to_store_arg={'gettemperature': None, 'multiply': None}, handle_tool_errors=True, messages_key='messages')"
      ]
     },
     "execution_count": 80,
     "metadata": {},
     "output_type": "execute_result"
    }
   ],
   "source": [
    "tools =[gettemperature,multiply]\n",
    "tools\n",
    "ToolNode(tools)"
   ]
  },
  {
   "cell_type": "code",
   "execution_count": 64,
   "id": "55aab392",
   "metadata": {},
   "outputs": [
    {
     "data": {
      "text/plain": [
       "[{'name': 'multiply',\n",
       "  'args': {'a': 3, 'b': 4},\n",
       "  'id': 'call_pPyuBhuWEFjCQxupS8vEdcYs',\n",
       "  'type': 'tool_call'}]"
      ]
     },
     "execution_count": 64,
     "metadata": {},
     "output_type": "execute_result"
    }
   ],
   "source": [
    "## Tool Binding\n",
    "llm_with_tools = chatmodel.bind_tools([gettemperature,multiply])\n",
    "response= llm_with_tools.invoke(\"Multiply 3 with 4\")\n",
    "response.tool_calls\n"
   ]
  },
  {
   "cell_type": "code",
   "execution_count": 65,
   "id": "a850cc14",
   "metadata": {},
   "outputs": [],
   "source": [
    "def call_model(state : MessagesState) ->MessagesState:\n",
    "    input = state[\"messages\"]\n",
    "    response = llm_with_tools.invoke(input)\n",
    "    state['messages']=response\n",
    "    return state"
   ]
  },
  {
   "cell_type": "code",
   "execution_count": 68,
   "id": "5361e916",
   "metadata": {},
   "outputs": [
    {
     "data": {
      "text/plain": [
       "{'messages': AIMessage(content='', additional_kwargs={'tool_calls': [{'id': 'call_F78aRYtkb14IDVnD14AFgTol', 'function': {'arguments': '{\"a\":2,\"b\":3}', 'name': 'multiply'}, 'type': 'function'}], 'refusal': None}, response_metadata={'token_usage': {'completion_tokens': 18, 'prompt_tokens': 89, 'total_tokens': 107, 'completion_tokens_details': {'accepted_prediction_tokens': 0, 'audio_tokens': 0, 'reasoning_tokens': 0, 'rejected_prediction_tokens': 0}, 'prompt_tokens_details': {'audio_tokens': 0, 'cached_tokens': 0}}, 'model_name': 'gpt-4o-mini-2024-07-18', 'system_fingerprint': 'fp_57db37749c', 'id': 'chatcmpl-BiCIqpUbAQuaf7kJxSfA0d9DSCVmN', 'service_tier': None, 'prompt_filter_results': [{'prompt_index': 0, 'content_filter_results': {'hate': {'filtered': False, 'severity': 'safe'}, 'jailbreak': {'filtered': False, 'detected': False}, 'self_harm': {'filtered': False, 'severity': 'safe'}, 'sexual': {'filtered': False, 'severity': 'safe'}, 'violence': {'filtered': False, 'severity': 'safe'}}}], 'finish_reason': 'tool_calls', 'logprobs': None, 'content_filter_results': {}}, id='run--0b5b0e54-2065-4663-b598-5b62ae92acbf-0', tool_calls=[{'name': 'multiply', 'args': {'a': 2, 'b': 3}, 'id': 'call_F78aRYtkb14IDVnD14AFgTol', 'type': 'tool_call'}], usage_metadata={'input_tokens': 89, 'output_tokens': 18, 'total_tokens': 107, 'input_token_details': {'audio': 0, 'cache_read': 0}, 'output_token_details': {'audio': 0, 'reasoning': 0}})}"
      ]
     },
     "execution_count": 68,
     "metadata": {},
     "output_type": "execute_result"
    }
   ],
   "source": [
    "response = call_model({\"messages\":[HumanMessage(content=\"Multiply 2 with 3?\")]})\n",
    "response"
   ]
  },
  {
   "cell_type": "code",
   "execution_count": 69,
   "id": "336deeeb",
   "metadata": {},
   "outputs": [],
   "source": [
    "def router_function(state: MessagesState)->MessagesState:\n",
    "    \"\"\" This function will help LLM weather to call LLM or a TOOL\"\"\"\n",
    "    lastmessage = state[\"messages\"][-1]\n",
    "    if lastmessage.tool_calls:\n",
    "        return \"tools\"\n",
    "    return END"
   ]
  },
  {
   "cell_type": "code",
   "execution_count": 82,
   "id": "374ef0fb",
   "metadata": {},
   "outputs": [
    {
     "data": {
      "image/png": "[encoded data removed]",
      "text/plain": [
       "<IPython.core.display.Image object>"
      ]
     },
     "metadata": {},
     "output_type": "display_data"
    }
   ],
   "source": [
    "workflow = StateGraph(MessagesState)\n",
    "workflow.add_node(\"llmwithtool\",call_model)\n",
    "workflow.add_node(\"alltools\",ToolNode(tools))\n",
    "\n",
    "\n",
    "workflow.add_edge(START,\"llmwithtool\")\n",
    "workflow.add_conditional_edges(\"llmwithtool\",router_function,\n",
    "                               {\n",
    "                                   \"tools\":\"alltools\",\n",
    "                                   END:END\n",
    "                               }\n",
    "                               )\n",
    "compiledworkflow = workflow.compile()\n",
    "\n",
    "display(Image(compiledworkflow.get_graph().draw_mermaid_png()))"
   ]
  },
  {
   "cell_type": "code",
   "execution_count": 86,
   "id": "7fce5ce8",
   "metadata": {},
   "outputs": [
    {
     "data": {
      "text/plain": [
       "'6'"
      ]
     },
     "execution_count": 86,
     "metadata": {},
     "output_type": "execute_result"
    }
   ],
   "source": [
    "response= compiledworkflow.invoke({\"messages\":[HumanMessage(content=\"Multiply 2 with 3?\")]})\n",
    "response[\"messages\"][-1].content"
   ]
  },
  {
   "cell_type": "code",
   "execution_count": 87,
   "id": "47cba62b",
   "metadata": {},
   "outputs": [
    {
     "data": {
      "text/plain": [
       "'Today, it is going to rain in Mumbai'"
      ]
     },
     "execution_count": 87,
     "metadata": {},
     "output_type": "execute_result"
    }
   ],
   "source": [
    "response=  compiledworkflow.invoke({\"messages\":[HumanMessage(content=\"What is the weather in Mumbai\")]})\n",
    "response[\"messages\"][-1].content"
   ]
  },
  {
   "cell_type": "code",
   "execution_count": 88,
   "id": "9ea072d7",
   "metadata": {},
   "outputs": [
    {
     "data": {
      "text/plain": [
       "\"I don't have access to real-time news or updates. However, you can check the official Azure blog or reliable tech news websites for the latest updates on Azure. They often cover new services, features, and announcements related to Azure.\""
      ]
     },
     "execution_count": 88,
     "metadata": {},
     "output_type": "execute_result"
    }
   ],
   "source": [
    "response=  compiledworkflow.invoke({\"messages\":[HumanMessage(content=\"What is the latest news in Azure?\")]})\n",
    "response[\"messages\"][-1].content"
   ]
  }
 ],
 "metadata": {
  "kernelspec": {
   "display_name": ".venv",
   "language": "python",
   "name": "python3"
  },
  "language_info": {
   "codemirror_mode": {
    "name": "ipython",
    "version": 3
   },
   "file_extension": ".py",
   "mimetype": "text/x-python",
   "name": "python",
   "nbconvert_exporter": "python",
   "pygments_lexer": "ipython3",
   "version": "3.13.2"
  }
 },
 "nbformat": 4,
 "nbformat_minor": 5
}
