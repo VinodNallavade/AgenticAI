{
 "cells": [
  {
   "cell_type": "code",
   "execution_count": 93,
   "id": "a7a0a35b",
   "metadata": {},
   "outputs": [],
   "source": [
    "from langgraph.graph import StateGraph,START,END,MessagesState\n",
    "from azure.identity import DefaultAzureCredential, get_bearer_token_provider\n",
    "from langchain_openai import AzureChatOpenAI\n",
    "from langchain_core.tools import tool\n",
    "\n",
    "\n",
    "from langgraph.checkpoint.memory import InMemorySaver\n",
    "from langchain_core.messages import AIMessage,HumanMessage,trim_messages\n",
    "from langchain_community.utilities import OpenWeatherMapAPIWrapper\n",
    "from langgraph.prebuilt import ToolNode,tools_condition\n",
    "from langchain_community.agent_toolkits.amadeus.toolkit import AmadeusToolkit\n",
    "\n",
    "\n",
    "from IPython.display import display,Image\n",
    "from dotenv import load_dotenv\n",
    "import os\n",
    "\n"
   ]
  },
  {
   "cell_type": "code",
   "execution_count": 81,
   "id": "f3e2f0b9",
   "metadata": {},
   "outputs": [],
   "source": [
    "load_dotenv()\n",
    "openweatherapikey = os.getenv(\"OPENWEATHERMAP_API_KEY\")\n",
    "token_provider= get_bearer_token_provider(DefaultAzureCredential(),\"https://cognitiveservices.azure.com/.default\")\n",
    "chatmodel = AzureChatOpenAI(\n",
    "    api_version=\"2024-12-01-preview\",\n",
    "    azure_endpoint=\"https://azopenai-langchain.openai.azure.com/\",\n",
    "    azure_ad_token_provider= token_provider,\n",
    "    model= \"gpt-4o-mini\"\n",
    ")"
   ]
  },
  {
   "cell_type": "code",
   "execution_count": 95,
   "id": "72a912b0",
   "metadata": {},
   "outputs": [
    {
     "ename": "PydanticUserError",
     "evalue": "`AmadeusToolkit` is not fully defined; you should define `Client`, then call `AmadeusToolkit.model_rebuild()`.\n\nFor further information visit https://errors.pydantic.dev/2.11/u/class-not-fully-defined",
     "output_type": "error",
     "traceback": [
      "\u001b[31m---------------------------------------------------------------------------\u001b[39m",
      "\u001b[31mPydanticUserError\u001b[39m                         Traceback (most recent call last)",
      "\u001b[36mCell\u001b[39m\u001b[36m \u001b[39m\u001b[32mIn[95]\u001b[39m\u001b[32m, line 1\u001b[39m\n\u001b[32m----> \u001b[39m\u001b[32m1\u001b[39m toolkit = \u001b[43mAmadeusToolkit\u001b[49m\u001b[43m(\u001b[49m\u001b[43m)\u001b[49m\n\u001b[32m      2\u001b[39m tools = toolkit.get_tools()\n",
      "    \u001b[31m[... skipping hidden 1 frame]\u001b[39m\n",
      "\u001b[36mFile \u001b[39m\u001b[32mc:\\Users\\vnallava\\OneDrive - Insight\\Desktop\\Learning\\AgenticAI\\.venv\\Lib\\site-packages\\pydantic\\_internal\\_mock_val_ser.py:100\u001b[39m, in \u001b[36mMockValSer.__getattr__\u001b[39m\u001b[34m(self, item)\u001b[39m\n\u001b[32m     98\u001b[39m \u001b[38;5;66;03m# raise an AttributeError if `item` doesn't exist\u001b[39;00m\n\u001b[32m     99\u001b[39m \u001b[38;5;28mgetattr\u001b[39m(\u001b[38;5;28mself\u001b[39m._val_or_ser, item)\n\u001b[32m--> \u001b[39m\u001b[32m100\u001b[39m \u001b[38;5;28;01mraise\u001b[39;00m PydanticUserError(\u001b[38;5;28mself\u001b[39m._error_message, code=\u001b[38;5;28mself\u001b[39m._code)\n",
      "\u001b[31mPydanticUserError\u001b[39m: `AmadeusToolkit` is not fully defined; you should define `Client`, then call `AmadeusToolkit.model_rebuild()`.\n\nFor further information visit https://errors.pydantic.dev/2.11/u/class-not-fully-defined"
     ]
    }
   ],
   "source": [
    "toolkit = AmadeusToolkit()\n",
    "tools = toolkit.get_tools()"
   ]
  },
  {
   "cell_type": "code",
   "execution_count": null,
   "id": "b9e3445d",
   "metadata": {},
   "outputs": [],
   "source": [
    "@tool\n",
    "def get_activities_and_attractions(place : str) -> str:\n",
    "    \"\"\" \n",
    "    This tool will help to get the activities and attractions for a given city.\n",
    "    \n",
    "    Input:\n",
    "      place (str)\n",
    "\n",
    "    Output:\n",
    "     attractions and activities (str)    \n",
    "    \"\"\"\n",
    "    "
   ]
  },
  {
   "cell_type": "code",
   "execution_count": 97,
   "id": "10b18bd7",
   "metadata": {},
   "outputs": [
    {
     "ename": "PydanticUserError",
     "evalue": "`AmadeusToolkit` is not fully defined; you should define `Client`, then call `AmadeusToolkit.model_rebuild()`.\n\nFor further information visit https://errors.pydantic.dev/2.11/u/class-not-fully-defined",
     "output_type": "error",
     "traceback": [
      "\u001b[31m---------------------------------------------------------------------------\u001b[39m",
      "\u001b[31mPydanticUserError\u001b[39m                         Traceback (most recent call last)",
      "\u001b[36mCell\u001b[39m\u001b[36m \u001b[39m\u001b[32mIn[97]\u001b[39m\u001b[32m, line 1\u001b[39m\n\u001b[32m----> \u001b[39m\u001b[32m1\u001b[39m toolkit = \u001b[43mAmadeusToolkit\u001b[49m\u001b[43m(\u001b[49m\u001b[43mclient\u001b[49m\u001b[43m=\u001b[49m\u001b[43mchatmodel\u001b[49m\u001b[43m)\u001b[49m\n\u001b[32m      2\u001b[39m tools = toolkit.get_tools()\n",
      "    \u001b[31m[... skipping hidden 1 frame]\u001b[39m\n",
      "\u001b[36mFile \u001b[39m\u001b[32mc:\\Users\\vnallava\\OneDrive - Insight\\Desktop\\Learning\\AgenticAI\\.venv\\Lib\\site-packages\\pydantic\\_internal\\_mock_val_ser.py:100\u001b[39m, in \u001b[36mMockValSer.__getattr__\u001b[39m\u001b[34m(self, item)\u001b[39m\n\u001b[32m     98\u001b[39m \u001b[38;5;66;03m# raise an AttributeError if `item` doesn't exist\u001b[39;00m\n\u001b[32m     99\u001b[39m \u001b[38;5;28mgetattr\u001b[39m(\u001b[38;5;28mself\u001b[39m._val_or_ser, item)\n\u001b[32m--> \u001b[39m\u001b[32m100\u001b[39m \u001b[38;5;28;01mraise\u001b[39;00m PydanticUserError(\u001b[38;5;28mself\u001b[39m._error_message, code=\u001b[38;5;28mself\u001b[39m._code)\n",
      "\u001b[31mPydanticUserError\u001b[39m: `AmadeusToolkit` is not fully defined; you should define `Client`, then call `AmadeusToolkit.model_rebuild()`.\n\nFor further information visit https://errors.pydantic.dev/2.11/u/class-not-fully-defined"
     ]
    }
   ],
   "source": []
  },
  {
   "cell_type": "code",
   "execution_count": 83,
   "id": "2d8bd0da",
   "metadata": {},
   "outputs": [],
   "source": [
    "@tool\n",
    "def get_forecast_weather(place : str) -> MessagesState:\n",
    "    \"\"\" \n",
    "    This tool will help to get the forecasted weather for a given city.\n",
    "    \n",
    "    Input:\n",
    "      place (str)\n",
    "\n",
    "    Output:\n",
    "     forecasted weather (str)    \n",
    "    \"\"\"\n",
    "    weather = OpenWeatherMapAPIWrapper(openweathermap_api_key= openweatherapikey)\n",
    "    weather_data = weather.run(place)\n",
    "    return weather_data"
   ]
  },
  {
   "cell_type": "code",
   "execution_count": 84,
   "id": "471566de",
   "metadata": {},
   "outputs": [
    {
     "data": {
      "text/plain": [
       "'In Delhi, the current weather is as follows:\\nDetailed status: overcast clouds\\nWind speed: 3.11 m/s, direction: 109°\\nHumidity: 57%\\nTemperature: \\n  - Current: 35.99°C\\n  - High: 35.99°C\\n  - Low: 35.99°C\\n  - Feels like: 42.99°C\\nRain: {}\\nHeat index: None\\nCloud cover: 94%'"
      ]
     },
     "execution_count": 84,
     "metadata": {},
     "output_type": "execute_result"
    }
   ],
   "source": [
    "weather = OpenWeatherMapAPIWrapper(openweathermap_api_key= openweatherapikey)\n",
    "weather_data = weather.run(\"Delhi\")\n",
    "weather_data"
   ]
  },
  {
   "cell_type": "code",
   "execution_count": 85,
   "id": "dfb5d82d",
   "metadata": {},
   "outputs": [],
   "source": [
    "def call_llm(state:MessagesState)-> MessagesState:\n",
    "     tools= [get_activities_and_attractions,get_forecast_weather]\n",
    "     chatmodel_with_tools = chatmodel.bind_tools(tools)\n",
    "     state[\"messages\"] = chatmodel_with_tools.invoke(state[\"messages\"])\n",
    "     return state"
   ]
  },
  {
   "cell_type": "code",
   "execution_count": 79,
   "id": "0d80cbce",
   "metadata": {},
   "outputs": [
    {
     "name": "stdout",
     "output_type": "stream",
     "text": [
      "==================================\u001b[1m Ai Message \u001b[0m==================================\n",
      "Tool Calls:\n",
      "  get_forecast_weather (call_bKtDa0QheSVykBT2MWQ8Le2R)\n",
      " Call ID: call_bKtDa0QheSVykBT2MWQ8Le2R\n",
      "  Args:\n",
      "    place: Pune\n"
     ]
    }
   ],
   "source": [
    "tools= [get_activities_and_attractions,get_forecast_weather]\n",
    "chatmodel_with_tools = chatmodel.bind_tools(tools)\n",
    "chatmodel_with_tools.invoke(\"Is it going to rain tomorrow in Pune?\").pretty_print()"
   ]
  },
  {
   "cell_type": "code",
   "execution_count": 86,
   "id": "17fea8f3",
   "metadata": {},
   "outputs": [
    {
     "data": {
      "image/png": "[encoded data removed]",
      "text/plain": [
       "<IPython.core.display.Image object>"
      ]
     },
     "metadata": {},
     "output_type": "display_data"
    }
   ],
   "source": [
    "\n",
    "\n",
    "graph = StateGraph(MessagesState)\n",
    "\n",
    "graph.add_node(\"call_llm\",call_llm)\n",
    "graph.add_node(\"tools\",ToolNode(tools=tools))\n",
    "graph.add_edge(START,\"call_llm\")\n",
    "graph.add_conditional_edges(\"call_llm\",tools_condition)\n",
    "graph.add_edge(\"tools\",\"call_llm\")\n",
    "compiledgraph = graph.compile()\n",
    "\n",
    "display(Image(compiledgraph.get_graph().draw_mermaid_png()))"
   ]
  },
  {
   "cell_type": "code",
   "execution_count": 92,
   "id": "8b550959",
   "metadata": {},
   "outputs": [
    {
     "name": "stdout",
     "output_type": "stream",
     "text": [
      "================================\u001b[1m Human Message \u001b[0m=================================\n",
      "\n",
      "Is it going to rain tomorrow in newyork?\n",
      "==================================\u001b[1m Ai Message \u001b[0m==================================\n",
      "Tool Calls:\n",
      "  get_forecast_weather (call_92HKbjXJjyGmhBzmPjgamZc7)\n",
      " Call ID: call_92HKbjXJjyGmhBzmPjgamZc7\n",
      "  Args:\n",
      "    place: newyork\n",
      "=================================\u001b[1m Tool Message \u001b[0m=================================\n",
      "Name: get_forecast_weather\n",
      "\n",
      "Error: NotFoundError('Unable to find the resource')\n",
      " Please fix your mistakes.\n",
      "==================================\u001b[1m Ai Message \u001b[0m==================================\n",
      "Tool Calls:\n",
      "  get_forecast_weather (call_JFtwPyrSVdLxup0GZjsSdG2z)\n",
      " Call ID: call_JFtwPyrSVdLxup0GZjsSdG2z\n",
      "  Args:\n",
      "    place: New York\n",
      "=================================\u001b[1m Tool Message \u001b[0m=================================\n",
      "Name: get_forecast_weather\n",
      "\n",
      "In New York, the current weather is as follows:\n",
      "Detailed status: overcast clouds\n",
      "Wind speed: 2.77 m/s, direction: 81°\n",
      "Humidity: 86%\n",
      "Temperature: \n",
      "  - Current: 17.97°C\n",
      "  - High: 17.97°C\n",
      "  - Low: 17.97°C\n",
      "  - Feels like: 18.07°C\n",
      "Rain: {}\n",
      "Heat index: None\n",
      "Cloud cover: 100%\n",
      "==================================\u001b[1m Ai Message \u001b[0m==================================\n",
      "\n",
      "The weather in New York is currently overcast with a temperature of approximately 17.97°C. However, the forecast for tomorrow does not indicate any rain. It seems the conditions will remain cloudy.\n"
     ]
    }
   ],
   "source": [
    "response = compiledgraph.invoke({\"messages\" : \"Is it going to rain tomorrow in newyork?\"})\n",
    "for m in response[\"messages\"]:\n",
    "    m.pretty_print()"
   ]
  }
 ],
 "metadata": {
  "kernelspec": {
   "display_name": ".venv",
   "language": "python",
   "name": "python3"
  },
  "language_info": {
   "codemirror_mode": {
    "name": "ipython",
    "version": 3
   },
   "file_extension": ".py",
   "mimetype": "text/x-python",
   "name": "python",
   "nbconvert_exporter": "python",
   "pygments_lexer": "ipython3",
   "version": "3.13.2"
  }
 },
 "nbformat": 4,
 "nbformat_minor": 5
}
