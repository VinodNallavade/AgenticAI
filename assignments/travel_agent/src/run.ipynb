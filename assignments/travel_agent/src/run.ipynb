{
 "cells": [
  {
   "cell_type": "code",
   "execution_count": 7,
   "id": "15c302b9",
   "metadata": {},
   "outputs": [
    {
     "name": "stdout",
     "output_type": "stream",
     "text": [
      "28.56639\n",
      "77.10306\n",
      "================================\u001b[1m Human Message \u001b[0m=================================\n",
      "\n",
      "I'm planning to travel to Delhi, what places can I visit\n",
      "==================================\u001b[1m Ai Message \u001b[0m==================================\n",
      "Tool Calls:\n",
      "  get_city_attractions (call_LLeuEyTa25KxmyYgWAZRM5IJ)\n",
      " Call ID: call_LLeuEyTa25KxmyYgWAZRM5IJ\n",
      "  Args:\n",
      "    city: Delhi\n",
      "=================================\u001b[1m Tool Message \u001b[0m=================================\n",
      "Name: get_city_attractions\n",
      "\n",
      "- Authentic Indian food straight from the mother's kitchen (N/A)\n",
      "==================================\u001b[1m Ai Message \u001b[0m==================================\n",
      "\n",
      "In Delhi, you can experience a variety of attractions and unique experiences, including:\n",
      "\n",
      "- **Authentic Indian Food**: Enjoy traditional dishes straight from the heart of Indian kitchens. While not a specific location, this experience can be found in many local eateries throughout the city.\n",
      "\n",
      "If you need more detailed suggestions about specific historical sites, parks, or markets, let me know!\n"
     ]
    }
   ],
   "source": [
    "from agent import TravelAgent\n",
    "from utils import get_azure_openai_model\n",
    "\n",
    "def main():\n",
    "    llm = get_azure_openai_model()\n",
    "    agent = TravelAgent(llm)\n",
    "    compiledgraph = agent.build_graph().compile()\n",
    "\n",
    "    response=compiledgraph.invoke({\"messages\" : \"I'm planning to travel to Delhi, what places can I visit\"})\n",
    "    for m in response[\"messages\"]:\n",
    "      m.pretty_print()\n",
    "\n",
    "if __name__ == \"__main__\":\n",
    "    main()\n"
   ]
  }
 ],
 "metadata": {
  "kernelspec": {
   "display_name": ".venv",
   "language": "python",
   "name": "python3"
  },
  "language_info": {
   "codemirror_mode": {
    "name": "ipython",
    "version": 3
   },
   "file_extension": ".py",
   "mimetype": "text/x-python",
   "name": "python",
   "nbconvert_exporter": "python",
   "pygments_lexer": "ipython3",
   "version": "3.13.2"
  }
 },
 "nbformat": 4,
 "nbformat_minor": 5
}
