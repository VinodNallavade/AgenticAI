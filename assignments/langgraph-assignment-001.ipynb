{
 "cells": [
  {
   "cell_type": "code",
   "execution_count": 142,
   "id": "8d704325",
   "metadata": {},
   "outputs": [],
   "source": [
    "from langgraph.graph import StateGraph,START,END\n",
    "from azure.identity import DefaultAzureCredential,get_bearer_token_provider\n",
    "from langchain_openai import AzureChatOpenAI,AzureOpenAIEmbeddings\n",
    "from langchain_chroma.vectorstores import Chroma\n",
    "from langchain_community.document_loaders import  DirectoryLoader,UnstructuredURLLoader\n",
    "from langchain.text_splitter import RecursiveCharacterTextSplitter\n",
    "from langchain_core.runnables import RunnablePassthrough\n",
    "from langchain_core.output_parsers import StrOutputParser\n",
    "from langchain import hub\n",
    "from langchain.prompts import PromptTemplate\n",
    "from langchain_tavily import TavilySearch\n",
    "import os\n",
    "from typing import Annotated, Sequence, TypedDict,Literal\n",
    "from langchain_core.messages import BaseMessage\n",
    "import operator\n",
    "from pydantic import BaseModel,Field\n",
    "from IPython.display import display, Image"
   ]
  },
  {
   "cell_type": "code",
   "execution_count": 5,
   "id": "812f6a87",
   "metadata": {},
   "outputs": [],
   "source": [
    "token_provider=get_bearer_token_provider(DefaultAzureCredential(), \"https://cognitiveservices.azure.com/.default\")\n",
    "\n",
    "chatmodel = AzureChatOpenAI(\n",
    "    api_version=\"2024-12-01-preview\",\n",
    "    azure_endpoint=\"https://azopenai-langchain.openai.azure.com/\",\n",
    "    azure_ad_token_provider= token_provider,\n",
    "    azure_deployment= \"gpt-4.1\",\n",
    "    model= \"gpt-4.1\"\n",
    "    )\n",
    "\n",
    "embeddingmodel = AzureOpenAIEmbeddings( \n",
    "    api_version=\"2024-12-01-preview\",\n",
    "    azure_endpoint=\"https://azopenai-langchain.openai.azure.com/\",\n",
    "    azure_ad_token_provider= token_provider,\n",
    "    azure_deployment= \"text-embedding-ada-002\",\n",
    "    model= \"text-embedding-ada-002\"\n",
    "    )"
   ]
  },
  {
   "cell_type": "code",
   "execution_count": null,
   "id": "09af03e4",
   "metadata": {},
   "outputs": [
    {
     "name": "stderr",
     "output_type": "stream",
     "text": [
      "100%|██████████| 1/1 [11:19<00:00, 679.80s/it]\n",
      "100%|██████████| 1/1 [00:06<00:00,  6.87s/it]\n",
      "100%|██████████| 1/1 [00:02<00:00,  2.56s/it]\n"
     ]
    }
   ],
   "source": [
    "## Data Ingestion and Chunking\n",
    "# Load data from 2 sources\n",
    "document_loader= DirectoryLoader(path= \"../data/\",glob=\"*pdf\", show_progress=True)\n",
    "txtdata= document_loader.load()\n",
    "weburl_loader = UnstructuredURLLoader(urls=[\"https://azure.microsoft.com/en-us/blog/focus-a-new-specification-for-cloud-cost-transparency/\"],show_progress_bar=True)\n",
    "webdata = weburl_loader.load()\n",
    "all_docs = txtdata + webdata\n",
    "len(all_docs)\n"
   ]
  },
  {
   "cell_type": "code",
   "execution_count": null,
   "id": "7744515e",
   "metadata": {},
   "outputs": [],
   "source": [
    "text_splitters = RecursiveCharacterTextSplitter(chunk_size=1000,chunk_overlap=50,separators=[\"\\n\\n\", \"\\n\", \" \", \"\"])\n",
    "txtdatachunks=text_splitters.split_documents(all_docs)"
   ]
  },
  {
   "cell_type": "code",
   "execution_count": 105,
   "id": "4c3b2dd4",
   "metadata": {},
   "outputs": [],
   "source": [
    "#each chunk into ChromaDB\n",
    "persist_directory = 'docs/chroma/'\n",
    "chromadb = Chroma(collection_name=\"Focus-Data\",embedding_function=embeddingmodel,persist_directory=persist_directory)\n",
    "dataaddedtochroma = chromadb.add_documents(txtdatachunks)"
   ]
  },
  {
   "cell_type": "code",
   "execution_count": null,
   "id": "5012c8d0",
   "metadata": {},
   "outputs": [],
   "source": [
    "# Prompts\n",
    "ragprompt = hub.pull(\"rlm/rag-prompt\")\n",
    "llmprompt = PromptTemplate(\n",
    "    input_variables=[\"question\"],\n",
    "    template=\"\"\"\n",
    "    You are a smart assistant with access to the internet. Your job is to answer the following question using the most relevant and recent information found on the web.\n",
    "    Question: {question}\n",
    "    \n",
    "    Instructions:\n",
    "    1. Search the web to find accurate, up-to-date information.\n",
    "    2. Summarize your findings clearly.\n",
    "    3. Include relevant facts, sources, and dates if available.\n",
    "    Only include information that is verified and recent.\n",
    "\n",
    "    Answer:\n",
    "    \"\"\"\n",
    ")\n",
    "supervisorprompt= PromptTemplate(\n",
    "    input_variables=[\"question\"],\n",
    "    template=\"\"\"\n",
    "    You are an intelligent assistant responsible for classifying user queries based on their content.\n",
    "\n",
    "Classify the query into one of the following categories:\n",
    "\n",
    "- \"rag\": Use this only when the query is related to **Azure Billing as it supports or integrates with the FOCUS platform**. Also use this if the question requires information from internal documentation specifically related to Azure Billing in the FOCUS context.\n",
    "- \"web\": Use this for questions that require up-to-date, real-time, or public information available on the internet.\n",
    "- \"llm\": Use this for general-purpose reasoning, creative writing, or queries not dependent on internal documentation or current events.\n",
    "\n",
    "Respond with one word only: **rag**, **web**, or **llm**.\n",
    "\n",
    "---\n",
    "\n",
    "Examples:\n",
    "\n",
    "Query: How does Azure Billing data feed into FOCUS reports?\n",
    "Classification: rag\n",
    "\n",
    "Query: What billing APIs does FOCUS rely on for Azure cost tracking?\n",
    "Classification: rag\n",
    "\n",
    "Query: Who won the Champions League this year?\n",
    "Classification: web\n",
    "\n",
    "Query: Write a tagline for a new health-tech product.\n",
    "Classification: llm\n",
    "\n",
    "Query: What are the differences between FOCUS billing and Azure native billing dashboards?\n",
    "Classification: rag\n",
    "\n",
    "Query: What's the current exchange rate between USD and EUR?\n",
    "Classification: web\n",
    "\n",
    "Query: How do I interpret a cost anomaly in FOCUS from Azure Billing data?\n",
    "Classification: rag\n",
    "\n",
    "---\n",
    "\n",
    "Now classify the following:\n",
    "\n",
    "Query: {query}\n",
    "Classification:\n",
    "    \"\"\"\n",
    ")\n",
    "\n",
    "validateprompt = PromptTemplate(\n",
    "    input_variables=[\"question\",\"answer_to_validate\"],\n",
    "    template= \"\"\"\n",
    "    You are an expert reviewer. Your task is to validate whether the following answer correctly and completely addresses the given question.\n",
    "\n",
    "Evaluate the response based on:\n",
    "1. Accuracy - Is the information factually correct?\n",
    "2. Completeness - Does the answer fully address the question?\n",
    "3. Relevance - Is the response focused and appropriate to the question?\n",
    "\n",
    "Respond with one word only: **yes** or **no**.\n",
    "---\n",
    "Question:\n",
    "{question}\n",
    "Answer:\n",
    "{answer_to_validate}\n",
    "Evaluation:\n",
    "\"\"\"\n",
    ")\n",
    "\n",
    "rewriteprompt = PromptTemplate(\n",
    "input_variables=[\"original_question\",\"answer\"],\n",
    "template=\"\"\"\n",
    "You are a prompt improvement assistant.\n",
    "Given a user's original question and an answer generated for it, your task is to rewrite the question so that it:\n",
    "- More clearly reflects what the answer is about,\n",
    "- Is unambiguous and easy to understand,\n",
    "- Aligns better with the style and scope of the answer received,\n",
    "- Preserves the user's original intent as much as possible.\n",
    "\n",
    "Return only the rewritten question.\n",
    "---\n",
    "Original Question:\n",
    "{original_question}\n",
    "\n",
    "Answer:\n",
    "{answer}\n",
    "\n",
    "Rewritten Question:\n",
    "\"\"\"\n",
    ")"
   ]
  },
  {
   "cell_type": "code",
   "execution_count": 126,
   "id": "c9012081",
   "metadata": {},
   "outputs": [
    {
     "data": {
      "text/plain": [
       "VectorStoreRetriever(tags=['Chroma', 'AzureOpenAIEmbeddings'], vectorstore=<langchain_chroma.vectorstores.Chroma object at 0x00000296F181BB10>, search_kwargs={})"
      ]
     },
     "execution_count": 126,
     "metadata": {},
     "output_type": "execute_result"
    }
   ],
   "source": [
    "#chromadata=chromadb.similarity_search_with_score( query=\"What is availability zone?\",k=5)\n",
    "# Function to format documents\n",
    "def format_docs(docs):\n",
    "    return \"\\n\\n\".join(doc.page_content for doc in docs)\n",
    "\n",
    "# Set up the retriever from the Chroma vector store\n",
    "retriever = chromadb.as_retriever()\n",
    "retriever"
   ]
  },
  {
   "cell_type": "code",
   "execution_count": 238,
   "id": "a3db659d",
   "metadata": {},
   "outputs": [],
   "source": [
    "class AgentState(TypedDict):\n",
    "    messages: Annotated[Sequence[BaseMessage], operator.add]\n",
    "    decision: Literal[\"rag\", \"llm\", \"web\"]\n",
    "    isvalid: Literal[\"yes\",\"no\"]\n",
    "    newquestion : str\n",
    "\n",
    "class formatinstructionsclass(BaseModel):\n",
    "    call:str =  Field(description=\"This will tell which method to call.\")\n",
    "    reason:str = Field(description=\"This will give the reason why we choose the above method.\")\n",
    "\n",
    "def Supervisor(state : AgentState) -> AgentState:\n",
    "    if state[\"isvalid\"] == \"no\":\n",
    "        input= state[\"newquestion\"]\n",
    "    else :\n",
    "        input = state[\"messages\"][0]       \n",
    "    supervisorprompt1=supervisorprompt.format(query = input)\n",
    "    response=chatmodel.invoke(supervisorprompt1)\n",
    "    state[\"decision\"]=response.content\n",
    "    return state\n"
   ]
  },
  {
   "cell_type": "code",
   "execution_count": 239,
   "id": "47687af0",
   "metadata": {},
   "outputs": [
    {
     "data": {
      "text/plain": [
       "{'messages': ['Does GCP supports FOCUS?'], 'isvalid': 'yes', 'decision': 'llm'}"
      ]
     },
     "execution_count": 239,
     "metadata": {},
     "output_type": "execute_result"
    }
   ],
   "source": [
    "Supervisor({\"messages\":[\"Does GCP supports FOCUS?\"],\"isvalid\":\"yes\"})"
   ]
  },
  {
   "cell_type": "code",
   "execution_count": 240,
   "id": "48435ee3",
   "metadata": {},
   "outputs": [],
   "source": [
    "# Create the RAG chain\n",
    "def rag_call(state: AgentState)-> AgentState :    \n",
    "    rag_chain = (\n",
    "    {\"context\": retriever | format_docs, \"question\": RunnablePassthrough()}\n",
    "    | ragprompt\n",
    "    | chatmodel\n",
    "    | StrOutputParser()\n",
    "    )\n",
    "    print(\"RAG Called\")\n",
    "    # Example query\n",
    "    response = rag_chain.invoke(state[\"messages\"][0])\n",
    "    state[\"messages\"]= [response]\n",
    "    return state"
   ]
  },
  {
   "cell_type": "code",
   "execution_count": 182,
   "id": "051e39aa",
   "metadata": {},
   "outputs": [
    {
     "name": "stdout",
     "output_type": "stream",
     "text": [
      "Langchain RAG pipeline set up successfully.\n",
      "Based on the provided context, FOCUS is designed to standardize cost data and FinOps practices across all cloud providers. The context repeatedly mentions that FOCUS applies to \"any provider,\" though it specifically references adoption on the Microsoft cloud. There is no explicit confirmation in the context that GCP (Google Cloud Platform) currently supports FOCUS, so I cannot confirm that GCP supports FOCUS based on the information given.\n"
     ]
    },
    {
     "data": {
      "text/plain": [
       "{'messages': 'Based on the provided context, FOCUS is designed to standardize cost data and FinOps practices across all cloud providers. The context repeatedly mentions that FOCUS applies to \"any provider,\" though it specifically references adoption on the Microsoft cloud. There is no explicit confirmation in the context that GCP (Google Cloud Platform) currently supports FOCUS, so I cannot confirm that GCP supports FOCUS based on the information given.'}"
      ]
     },
     "execution_count": 182,
     "metadata": {},
     "output_type": "execute_result"
    }
   ],
   "source": [
    "rag_call({\"messages\":[\"Does GCP supports FOCUS?\"]})"
   ]
  },
  {
   "cell_type": "code",
   "execution_count": null,
   "id": "e1b6e2de",
   "metadata": {},
   "outputs": [
    {
     "data": {
      "text/plain": [
       "ChatPromptTemplate(input_variables=['context', 'question'], input_types={}, partial_variables={}, metadata={'lc_hub_owner': 'rlm', 'lc_hub_repo': 'rag-prompt', 'lc_hub_commit_hash': '50442af133e61576e74536c6556cefe1fac147cad032f4377b60c436e6cdcb6e'}, messages=[HumanMessagePromptTemplate(prompt=PromptTemplate(input_variables=['context', 'question'], input_types={}, partial_variables={}, template=\"You are an assistant for question-answering tasks. Use the following pieces of retrieved context to answer the question. If you don't know the answer, just say that you don't know. Use three sentences maximum and keep the answer concise.\\nQuestion: {question} \\nContext: {context} \\nAnswer:\"), additional_kwargs={})])"
      ]
     },
     "execution_count": 107,
     "metadata": {},
     "output_type": "execute_result"
    }
   ],
   "source": [
    "ragprompt"
   ]
  },
  {
   "cell_type": "code",
   "execution_count": 241,
   "id": "ef8e11a3",
   "metadata": {},
   "outputs": [],
   "source": [
    "# Create LLM Call\n",
    "def llm_call(state: AgentState)-> AgentState : \n",
    "    print(\"LLM Called\")   \n",
    "    llmchain= (\n",
    "    {\"question\": RunnablePassthrough()}\n",
    "    | llmprompt\n",
    "    | chatmodel\n",
    "    | StrOutputParser()\n",
    "    )\n",
    "    llmoutput=llmchain.invoke(state[\"messages\"][0])\n",
    "    state[\"messages\"]= [llmoutput]\n",
    "    return state"
   ]
  },
  {
   "cell_type": "code",
   "execution_count": 276,
   "id": "33a06a30",
   "metadata": {},
   "outputs": [],
   "source": [
    "def web_call(state: AgentState)-> AgentState : \n",
    "    os.environ[\"TAVILY_API_KEY\"] = os.getenv(\"TAVILY_APIKEY\")\n",
    "    print(\"WEB Called\")\n",
    "    tavily_tool =TavilySearch(\n",
    "     max_results=1,\n",
    "    topic=\"general\",\n",
    "    )\n",
    "    webresponse=tavily_tool.invoke(state[\"messages\"][0])\n",
    "    state[\"messages\"]=[webresponse[\"results\"][0][\"content\"]]\n",
    "    return state"
   ]
  },
  {
   "cell_type": "code",
   "execution_count": 277,
   "id": "7810570f",
   "metadata": {},
   "outputs": [],
   "source": [
    "def validate_call(state:AgentState) -> AgentState:    \n",
    "    print(\"Validate Called\")   \n",
    "    answer_to_validate= state['messages'][-1]\n",
    "    question = state[\"messages\"][0]\n",
    "    llmvalidatechain= (\n",
    "    {\"question\": RunnablePassthrough(),\"answer_to_validate\" : RunnablePassthrough()}\n",
    "    | validateprompt\n",
    "    | chatmodel\n",
    "    | StrOutputParser()\n",
    "    )\n",
    "    isvalid=llmvalidatechain.invoke({\"question\": question, \"answer_to_validate\": answer_to_validate})\n",
    "    state[\"isvalid\"]= isvalid\n",
    "    print(f\"---> Validate Response : {isvalid}\")   \n",
    "    return state  "
   ]
  },
  {
   "cell_type": "code",
   "execution_count": null,
   "id": "eb80e5fd",
   "metadata": {},
   "outputs": [
    {
     "name": "stdout",
     "output_type": "stream",
     "text": [
      "Validate Called\n"
     ]
    },
    {
     "data": {
      "text/plain": [
       "{'messages': ['Does GCP supports FOCUS?', 'GCP is good'], 'isvalid': 'no'}"
      ]
     },
     "execution_count": 260,
     "metadata": {},
     "output_type": "execute_result"
    }
   ],
   "source": [
    "validate_call({\"messages\":[\"Does GCP supports FOCUS?\",\"GCP is good\"],\"isvalid\":\"yes\"})"
   ]
  },
  {
   "cell_type": "code",
   "execution_count": 278,
   "id": "c93700e0",
   "metadata": {},
   "outputs": [],
   "source": [
    "def rewrite_call(state : AgentState)-> AgentState:\n",
    "    print(\"Rewrite Question Called\")\n",
    "    answer_validated= state['messages'][-1]\n",
    "    question = state[\"messages\"][0]   \n",
    "    rewritechain= (\n",
    "    {\"original_question\": RunnablePassthrough(),\"answer\" : RunnablePassthrough()}\n",
    "    | rewriteprompt\n",
    "    | chatmodel\n",
    "    | StrOutputParser()\n",
    "    )\n",
    "    newquestion=rewritechain.invoke({\"original_question\": question, \"answer\": answer_validated})\n",
    "    state[\"newquestion\"]= newquestion\n",
    "    print(f\"------> New Question: {newquestion}\")\n",
    "    return state    "
   ]
  },
  {
   "cell_type": "code",
   "execution_count": 273,
   "id": "7baddbfc",
   "metadata": {},
   "outputs": [
    {
     "name": "stdout",
     "output_type": "stream",
     "text": [
      "Rewrite Question Called\n"
     ]
    },
    {
     "data": {
      "text/plain": [
       "{'messages': ['What billing APIs does FOCUS rely on for Azure cost tracking?'],\n",
       " 'isvalid': 'yes',\n",
       " 'newquestion': 'Which specific Azure billing APIs does FOCUS use to track and manage cloud costs?'}"
      ]
     },
     "execution_count": 273,
     "metadata": {},
     "output_type": "execute_result"
    }
   ],
   "source": [
    "rewrite_call({\"messages\":[\"What billing APIs does FOCUS rely on for Azure cost tracking?\"],\"isvalid\":\"yes\"})"
   ]
  },
  {
   "cell_type": "code",
   "execution_count": 283,
   "id": "e7b34c66",
   "metadata": {},
   "outputs": [
    {
     "data": {
      "image/png": "[encoded data removed]",
      "text/plain": [
       "<IPython.core.display.Image object>"
      ]
     },
     "metadata": {},
     "output_type": "display_data"
    }
   ],
   "source": [
    "# Assuming AgentState is your state type\n",
    "graph = StateGraph(AgentState)\n",
    "\n",
    "# Add processing nodes\n",
    "graph.add_node(\"Supervisor\", Supervisor)\n",
    "graph.add_node(\"RAG\", rag_call)\n",
    "graph.add_node(\"LLM\", llm_call)\n",
    "graph.add_node(\"WEB\", web_call)\n",
    "graph.add_node(\"Validate\", validate_call)\n",
    "graph.add_node(\"Rewrite Question\", rewrite_call)\n",
    "\n",
    "\n",
    "# Flow: Start → Supervisor\n",
    "graph.add_edge(START, \"Supervisor\")\n",
    "\n",
    "# Supervisor → branch based on decision\n",
    "graph.add_conditional_edges(\n",
    "    \"Supervisor\",\n",
    "    lambda state: state[\"decision\"],\n",
    "    {\n",
    "        \"rag\": \"RAG\",\n",
    "        \"llm\": \"LLM\",\n",
    "        \"web\": \"WEB\"\n",
    "    }\n",
    ")\n",
    "\n",
    "# RAG / LLM / WEB → Validate\n",
    "graph.add_edge(\"RAG\", \"Validate\")\n",
    "graph.add_edge(\"LLM\", \"Validate\")\n",
    "graph.add_edge(\"WEB\", \"Validate\")\n",
    "\n",
    "# Validate → yes → END, no → Rewrite\n",
    "graph.add_conditional_edges(\n",
    "    \"Validate\",\n",
    "    lambda state: state[\"isvalid\"],\n",
    "    {\n",
    "        \"yes\": END,\n",
    "        \"no\": \"Rewrite Question\"\n",
    "    }\n",
    ")\n",
    "\n",
    "# Rewrite Question → Supervisor (loopback)\n",
    "graph.add_edge(\"Rewrite Question\", \"Supervisor\")\n",
    "\n",
    "compiledgraph= graph.compile()\n",
    "\n",
    "\n",
    "display(Image(data=compiledgraph.get_graph().draw_mermaid_png()))"
   ]
  },
  {
   "cell_type": "code",
   "execution_count": 280,
   "id": "db1ac2e1",
   "metadata": {},
   "outputs": [
    {
     "name": "stdout",
     "output_type": "stream",
     "text": [
      "RAG Called\n",
      "Validate Called\n",
      "---> Validate Response : no\n",
      "Rewrite Question Called\n",
      "------> New Question: How does the FinOps Open Cost and Usage Specification (FOCUS) enable standardized cost tracking in Azure?\n",
      "LLM Called\n",
      "Validate Called\n",
      "---> Validate Response : yes\n"
     ]
    },
    {
     "data": {
      "text/plain": [
       "\"Based on recent and reliable sources, FOCUS (the FinOps Open Cost and Usage Specification) relies on the following Azure billing APIs for Azure cost tracking:\\n\\n1. Azure Cost Management + Billing APIs:  \\n   - **Consumption API**: Provides access to usage and cost data for Azure resources. Used to retrieve granular cost and usage details such as daily/monthly usage, cost by resource, tag, etc.\\n   - **UsageDetails API**: Part of the Consumption API, specifically delivers detailed resource-level spend and usage records, which are important for constructing a FOCUS-compliant dataset.\\n   - **Reservation APIs**: Supplies reserved instance utilization and cost breakdown.\\n   - **Price Sheet API**: Gives pricing and rate card information to link raw usage data to actual costs.\\n\\n2. **Data Sources Used by FOCUS Implementations**:\\n   - As noted in the official FOCUS specification and implementation guides (e.g., Microsoft's own FOCUS GitHub repo and FinOps Foundation documentation), Azure users map FOCUS fields directly from outputs obtained via the Azure Consumption APIs, such as UsageDetails and PriceSheet, to ensure end-to-end traceability of Azure spending.\\n\\n**Key Sources:**\\n- FinOps Open Cost & Usage Specification (FOCUS) FAQ (FinOps Foundation, 2024)  \\n  [https://focus.finops.org/faq/#what-sources-does-focus-support](https://focus.finops.org/faq/#what-sources-does-focus-support)\\n- Microsoft’s FOCUS Reference Implementation (GitHub, last updated 2024)  \\n  [https://github.com/microsoft/finops-open-cost-and-usage-specification](https://github.com/microsoft/finops-open-cost-and-usage-specification)\\n- Azure Cost Management REST APIs (Microsoft Docs, 2024)  \\n  [https://learn.microsoft.com/en-us/rest/api/cost-management/](https://learn.microsoft.com/en-us/rest/api/cost-management/)\\n\\n**Summary:**  \\nFOCUS relies on the Azure Consumption APIs, primarily the UsageDetails, PriceSheet, and Reservation APIs, for detailed cost and usage tracking. These APIs serve as the authoritative sources for mapping Azure billing data into the FOCUS schema, enabling standardized, transparent, and interoperable cloud cost reporting.\""
      ]
     },
     "execution_count": 280,
     "metadata": {},
     "output_type": "execute_result"
    }
   ],
   "source": [
    "graphoutput=compiledgraph.invoke({\"messages\":[\"What billing APIs does FOCUS rely on for Azure cost tracking?\"],\"isvalid\":\"yes\"})\n",
    "graphoutput[\"messages\"][-1]"
   ]
  }
 ],
 "metadata": {
  "kernelspec": {
   "display_name": ".venv",
   "language": "python",
   "name": "python3"
  },
  "language_info": {
   "codemirror_mode": {
    "name": "ipython",
    "version": 3
   },
   "file_extension": ".py",
   "mimetype": "text/x-python",
   "name": "python",
   "nbconvert_exporter": "python",
   "pygments_lexer": "ipython3",
   "version": "3.13.2"
  }
 },
 "nbformat": 4,
 "nbformat_minor": 5
}
