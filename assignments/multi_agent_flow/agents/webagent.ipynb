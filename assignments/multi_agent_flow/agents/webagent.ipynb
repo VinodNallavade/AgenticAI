{
 "cells": [
  {
   "cell_type": "code",
   "execution_count": 2,
   "id": "20642d91",
   "metadata": {},
   "outputs": [],
   "source": [
    "from pydantic import BaseModel\n",
    "from langchain_core.messages import BaseMessage\n",
    "from typing import Annotated,Sequence,Optional\n",
    "import operator\n",
    "\n",
    "class AgentState(BaseModel):\n",
    "    messages:Annotated[Sequence[BaseMessage],operator.add]\n",
    "    search_results: Optional[str] = None\n",
    "    python_output: Optional[str] = None\n",
    "\n",
    "\n",
    "from langchain_tavily import TavilySearch\n",
    "from langchain.tools import tool\n",
    "import os\n",
    "from dotenv import load_dotenv\n",
    "from langchain_community.tools.tavily_search import TavilySearchResults\n",
    "from langchain_community.tools import DuckDuckGoSearchRun\n",
    "load_dotenv()\n",
    "TAVILY_API_KEY=os.getenv(\"TAVILY_APIKEY\")\n",
    "@tool\n",
    "def web_search(state: AgentState) -> AgentState:\n",
    "    \"\"\"Search the web using Tavily with the user's input.\"\"\"\n",
    "    print(\"Web Search tool called-----\")\n",
    "    query = \"\"\n",
    "    for msg in reversed(state.messages):\n",
    "        if msg.type == \"user\":\n",
    "            query = msg.content\n",
    "            break\n",
    "    try:\n",
    "        results = TavilySearchResults(max_results=4,tavily_api_key=TAVILY_API_KEY).invoke(query)\n",
    "        print(results)\n",
    "        return state.model_copy(update={\"search_results\": results})\n",
    "    except Exception as e:\n",
    "        print(e)\n",
    "\n",
    "from langgraph.prebuilt import create_react_agent\n",
    "from azure.identity import DefaultAzureCredential,get_bearer_token_provider\n",
    "from langchain_openai import AzureChatOpenAI\n",
    "\n",
    "token_provider = get_bearer_token_provider(DefaultAzureCredential(),\"https://cognitiveservices.azure.com/.default\")\n",
    "chat_model= AzureChatOpenAI(\n",
    "    api_version=\"2024-12-01-preview\",\n",
    "    azure_endpoint=\"https://azopenai-langchain.openai.azure.com/\",\n",
    "    azure_ad_token_provider= token_provider,\n",
    "    model= \"gpt-4o-mini\"\n",
    ")\n",
    "\n",
    "\n",
    "\n",
    "def make_system_prompt(suffix: str) -> str:\n",
    "    return (\n",
    "        \"You are a helpful AI assistant, collaborating with other assistants.\"\n",
    "        \" Use the provided tools to progress towards answering the question.\"\n",
    "        \" If you are unable to fully answer, that's OK, another assistant with different tools \"\n",
    "        \" will help where you left off. Execute what you can to make progress.\"\n",
    "        \" If you or any of the other assistants have the final answer or deliverable,\"\n",
    "        \" prefix your response with FINAL ANSWER so the team knows to stop.\"\n",
    "        f\"\\n{suffix}\"\n",
    "    )\n",
    "\n",
    "\n",
    "research_agent = create_react_agent(\n",
    "    chat_model,\n",
    "    tools=[web_search],\n",
    "    prompt=make_system_prompt(\n",
    "        \"You can only do research. You are working with a chart generator colleague.\"\n",
    "    ),\n",
    ")"
   ]
  },
  {
   "cell_type": "code",
   "execution_count": 3,
   "id": "4eeb9eb9",
   "metadata": {},
   "outputs": [
    {
     "name": "stdout",
     "output_type": "stream",
     "text": [
      "Web Search tool called-----\n",
      "[{'title': 'ABC News - Breaking News, Latest News and Videos', 'url': 'https://abcnews.go.com/', 'content': \"### Thailand seizes over 2 tons of meth worth more than $90.8 million\\n\\n### New IOC president Kirsty Coventry inaugurated to start 8-year leadership\\n\\n### Mideast governments condemn Syria church bombing as death toll jumps to 25\\n\\n### Madeleine McCann suspect could be freed from prison early after donor pays fine\\n\\n### London's secret wartime tunnels set to draw tourists with spy museum and bar\\n\\n### Good Morning America [...] ### Newlywed couple's honeymoon in US Virgin Islands ends with her ICE detention\\n\\n### Florida condo owners will get financial relief under a new law\\n\\n### Veteran race car driver wants to make history at Pikes Peak\\n\\n### Summer travel forecast: The cheapest days and the busiest days to fly\\n\\n### Fat Joe accused of sex trafficking, fraud in new lawsuit\\n\\n### Dad arrested for son's death after allegedly leaving him in hot car to go drinking\", 'score': 0.4572585}, {'title': 'CNN: Breaking News, Latest News and Videos', 'url': 'https://www.cnn.com/', 'content': '![French gendarmes secure a perimeter near the site of a fatal shooting during a wedding party in Goult, in the southern French department of Vaucluse, on June 22, 2025. Masked gunmen opened fire on a wedding party, killing two, including the bride, and wounding three other attendees, as the newlyweds were leaving in the early hours of June 22. (Photo by Gabriel BOUYS / AFP) (Photo by GABRIEL BOUYS/AFP via Getty Images) [...] ![BROOKLYN, NEW YORK, UNITED STATES - 2025/05/29: Participants seen holding a banner at the protest. New Yorkers gathered outside House Representative Nicole Malliotakis office in Bay Ridge, Brooklyn to protest her decision to vote in favor to pass the so called Big Beautiful Bill, a bill that contains severe cuts to social services like healthcare, housing and food assistance federally funded programs and big tax cuts to billionaires and big corporations. (Photo by Erik McGregor/LightRocket [...] ![WASHINGTON, DC - JUNE 18: A protester holds a sign in support of gender-affirming care for transgender youth outside of the U.S. Supreme Court Building on June 18, 2025 in Washington, DC. Advocates organized a rally in response the U.S. Supreme Court’s ruling in US v. Skrmetti, in which the justices ruled to uphold state bans on gender-affirming medical care for transgender youth. (Photo by Anna Moneymaker/Getty', 'score': 0.44680908}, {'title': 'Fox News - Breaking News Updates | Latest News Headlines ...', 'url': 'https://www.foxnews.com/', 'content': \"### [Walmart expands drone delivery service to 3 more states in race against Amazon](https://www.foxbusiness.com/lifestyle/walmart-expands-drone-delivery-service-three-more-states-race-against-amazon)\\n\\n### [62 days later, Nike remains virtually silent on alleged funding of trans youth study](http://www.outkick.com/category/nike-study)\\n\\n![Investment firm rolls out artificial intelligence assistant company-wide - Fox News](//static.foxnews.com/static/orion/img/clear-16x9.gif) [...] ### [US strike damage to Iran's Natanz, Isfahan nuclear facilities captured in satellite images](//www.foxnews.com/world/us-strike-damage-irans-natanz-isfahan-nuclear-facilities-captured-satellite-images)\\n\\n### [Exiled prince looks to lead Iranian people in ending Islamic Republic: 'Our Berlin Wall moment'](//www.foxnews.com/world/exiled-prince-looks-lead-iranian-people-ending-islamic-republic-our-berlin-wall-moment) [...] ### [Simple daily activity could reduce risk of lower back pain, study finds](//www.foxnews.com/health/simple-daily-activity-could-reduce-risk-lower-back-pain-study-finds)\\n\\n### [Diabetic patients taking GLP-1s may face increased risk of eye disease, study suggests](//www.foxnews.com/health/diabetic-patients-taking-glp-1s-may-face-increased-risk-eye-disease-study-suggests)\", 'score': 0.43770394}, {'title': 'Yahoo News: Latest and Breaking News, Headlines, Live Updates ...', 'url': 'https://news.yahoo.com/', 'content': '\"Iran\\'s key nuclear enrichment facilities have been completely and totally obliterated,\" Trump said in a televised Oval Office address. After days of deliberation and long before his self-imposed two-week deadline, Trump\\'s decision to join Israel\\'s military campaign against its major rival Iran represents a major escalation of the conflict. [...] A federal jury on Monday awarded $500,000 to the widow and estate of a police officer who killed himself nine days after he helped defend the U.S. Capitol from a mob of rioters, including a man who scuffled with the officer during the attack. The eight-member jury ordered that man, 69-year-old chiropractor David Walls-Kaufman, to pay $380,000 in punitive damages and $60,000 in compensatory damages to Erin Smith for assaulting her husband, Metropolitan Police Officer Jeffrey Smith, inside the Ca', 'score': 0.42792314}]\n"
     ]
    },
    {
     "data": {
      "text/plain": [
       "{'messages': [HumanMessage(content='What is the latest news', additional_kwargs={}, response_metadata={}, id='7a8197e0-636d-48a3-ac94-f6cdc0792f33'),\n",
       "  AIMessage(content='', additional_kwargs={'tool_calls': [{'id': 'call_yQZ7nAzikD9RVyF4NvmOhh6q', 'function': {'arguments': '{\"state\":{\"messages\":[{\"content\":\"latest news\",\"type\":\"user\"}]}}', 'name': 'web_search'}, 'type': 'function'}], 'refusal': None}, response_metadata={'token_usage': {'completion_tokens': 27, 'prompt_tokens': 239, 'total_tokens': 266, 'completion_tokens_details': {'accepted_prediction_tokens': 0, 'audio_tokens': 0, 'reasoning_tokens': 0, 'rejected_prediction_tokens': 0}, 'prompt_tokens_details': {'audio_tokens': 0, 'cached_tokens': 0}}, 'model_name': 'gpt-4o-mini-2024-07-18', 'system_fingerprint': 'fp_57db37749c', 'id': 'chatcmpl-BlhoTaYqOPiY5Ya4GXGagIhBcYhkp', 'service_tier': None, 'prompt_filter_results': [{'prompt_index': 0, 'content_filter_results': {'hate': {'filtered': False, 'severity': 'safe'}, 'jailbreak': {'filtered': False, 'detected': False}, 'self_harm': {'filtered': False, 'severity': 'safe'}, 'sexual': {'filtered': False, 'severity': 'safe'}, 'violence': {'filtered': False, 'severity': 'safe'}}}], 'finish_reason': 'tool_calls', 'logprobs': None, 'content_filter_results': {}}, id='run--3cb5573a-676f-4ed0-9e06-5bba5b2d51b7-0', tool_calls=[{'name': 'web_search', 'args': {'state': {'messages': [{'content': 'latest news', 'type': 'user'}]}}, 'id': 'call_yQZ7nAzikD9RVyF4NvmOhh6q', 'type': 'tool_call'}], usage_metadata={'input_tokens': 239, 'output_tokens': 27, 'total_tokens': 266, 'input_token_details': {'audio': 0, 'cache_read': 0}, 'output_token_details': {'audio': 0, 'reasoning': 0}}),\n",
       "  ToolMessage(content='messages=[BaseMessage(content=\\'latest news\\', additional_kwargs={}, response_metadata={}, type=\\'user\\')] search_results=[{\\'title\\': \\'ABC News - Breaking News, Latest News and Videos\\', \\'url\\': \\'https://abcnews.go.com/\\', \\'content\\': \"### Thailand seizes over 2 tons of meth worth more than $90.8 million\\\\n\\\\n### New IOC president Kirsty Coventry inaugurated to start 8-year leadership\\\\n\\\\n### Mideast governments condemn Syria church bombing as death toll jumps to 25\\\\n\\\\n### Madeleine McCann suspect could be freed from prison early after donor pays fine\\\\n\\\\n### London\\'s secret wartime tunnels set to draw tourists with spy museum and bar\\\\n\\\\n### Good Morning America [...] ### Newlywed couple\\'s honeymoon in US Virgin Islands ends with her ICE detention\\\\n\\\\n### Florida condo owners will get financial relief under a new law\\\\n\\\\n### Veteran race car driver wants to make history at Pikes Peak\\\\n\\\\n### Summer travel forecast: The cheapest days and the busiest days to fly\\\\n\\\\n### Fat Joe accused of sex trafficking, fraud in new lawsuit\\\\n\\\\n### Dad arrested for son\\'s death after allegedly leaving him in hot car to go drinking\", \\'score\\': 0.4572585}, {\\'title\\': \\'CNN: Breaking News, Latest News and Videos\\', \\'url\\': \\'https://www.cnn.com/\\', \\'content\\': \\'![French gendarmes secure a perimeter near the site of a fatal shooting during a wedding party in Goult, in the southern French department of Vaucluse, on June 22, 2025. Masked gunmen opened fire on a wedding party, killing two, including the bride, and wounding three other attendees, as the newlyweds were leaving in the early hours of June 22. (Photo by Gabriel BOUYS / AFP) (Photo by GABRIEL BOUYS/AFP via Getty Images) [...] ![BROOKLYN, NEW YORK, UNITED STATES - 2025/05/29: Participants seen holding a banner at the protest. New Yorkers gathered outside House Representative Nicole Malliotakis office in Bay Ridge, Brooklyn to protest her decision to vote in favor to pass the so called Big Beautiful Bill, a bill that contains severe cuts to social services like healthcare, housing and food assistance federally funded programs and big tax cuts to billionaires and big corporations. (Photo by Erik McGregor/LightRocket [...] ![WASHINGTON, DC - JUNE 18: A protester holds a sign in support of gender-affirming care for transgender youth outside of the U.S. Supreme Court Building on June 18, 2025 in Washington, DC. Advocates organized a rally in response the U.S. Supreme Court’s ruling in US v. Skrmetti, in which the justices ruled to uphold state bans on gender-affirming medical care for transgender youth. (Photo by Anna Moneymaker/Getty\\', \\'score\\': 0.44680908}, {\\'title\\': \\'Fox News - Breaking News Updates | Latest News Headlines ...\\', \\'url\\': \\'https://www.foxnews.com/\\', \\'content\\': \"### [Walmart expands drone delivery service to 3 more states in race against Amazon](https://www.foxbusiness.com/lifestyle/walmart-expands-drone-delivery-service-three-more-states-race-against-amazon)\\\\n\\\\n### [62 days later, Nike remains virtually silent on alleged funding of trans youth study](http://www.outkick.com/category/nike-study)\\\\n\\\\n![Investment firm rolls out artificial intelligence assistant company-wide - Fox News](//static.foxnews.com/static/orion/img/clear-16x9.gif) [...] ### [US strike damage to Iran\\'s Natanz, Isfahan nuclear facilities captured in satellite images](//www.foxnews.com/world/us-strike-damage-irans-natanz-isfahan-nuclear-facilities-captured-satellite-images)\\\\n\\\\n### [Exiled prince looks to lead Iranian people in ending Islamic Republic: \\'Our Berlin Wall moment\\'](//www.foxnews.com/world/exiled-prince-looks-lead-iranian-people-ending-islamic-republic-our-berlin-wall-moment) [...] ### [Simple daily activity could reduce risk of lower back pain, study finds](//www.foxnews.com/health/simple-daily-activity-could-reduce-risk-lower-back-pain-study-finds)\\\\n\\\\n### [Diabetic patients taking GLP-1s may face increased risk of eye disease, study suggests](//www.foxnews.com/health/diabetic-patients-taking-glp-1s-may-face-increased-risk-eye-disease-study-suggests)\", \\'score\\': 0.43770394}, {\\'title\\': \\'Yahoo News: Latest and Breaking News, Headlines, Live Updates ...\\', \\'url\\': \\'https://news.yahoo.com/\\', \\'content\\': \\'\"Iran\\\\\\'s key nuclear enrichment facilities have been completely and totally obliterated,\" Trump said in a televised Oval Office address. After days of deliberation and long before his self-imposed two-week deadline, Trump\\\\\\'s decision to join Israel\\\\\\'s military campaign against its major rival Iran represents a major escalation of the conflict. [...] A federal jury on Monday awarded $500,000 to the widow and estate of a police officer who killed himself nine days after he helped defend the U.S. Capitol from a mob of rioters, including a man who scuffled with the officer during the attack. The eight-member jury ordered that man, 69-year-old chiropractor David Walls-Kaufman, to pay $380,000 in punitive damages and $60,000 in compensatory damages to Erin Smith for assaulting her husband, Metropolitan Police Officer Jeffrey Smith, inside the Ca\\', \\'score\\': 0.42792314}] python_output=None', name='web_search', id='7cbab4db-1e6c-477e-8132-99b08c81316c', tool_call_id='call_yQZ7nAzikD9RVyF4NvmOhh6q'),\n",
       "  AIMessage(content=\"Here are some of the latest news highlights:\\n\\n1. **Thailand Seizes Over 2 Tons of Meth Worth More Than $90.8 Million** - Authorities in Thailand have confiscated a significant amount of methamphetamine.\\n\\n2. **New IOC President Kirsty Coventry Inaugurated** - Kirsty Coventry has officially begun her leadership of the International Olympic Committee.\\n\\n3. **Mideast Governments Condemn Syria Church Bombing** - Following a bombing at a church in Syria, the death toll has risen to 25, drawing condemnation from various Middle East governments.\\n\\n4. **Madeline McCann Suspect's Possible Early Prison Release** - A suspect in the Madeleine McCann case could be released early from prison after a donor pays a fine.\\n\\n5. **Florida Condo Owners to Benefit from New Legislation** - New laws are set to provide financial relief to condo owners in Florida.\\n\\n6. **Walmart Expands Drone Delivery Service** - Walmart is increasing its drone delivery service to three additional states, competing with Amazon.\\n\\nFor more detailed coverage, you can visit these news sources:\\n- [ABC News](https://abcnews.go.com/)\\n- [CNN](https://www.cnn.com/)\\n- [Fox News](https://www.foxnews.com/)\\n- [Yahoo News](https://news.yahoo.com/)\", additional_kwargs={'refusal': None}, response_metadata={'token_usage': {'completion_tokens': 268, 'prompt_tokens': 1467, 'total_tokens': 1735, 'completion_tokens_details': {'accepted_prediction_tokens': 0, 'audio_tokens': 0, 'reasoning_tokens': 0, 'rejected_prediction_tokens': 0}, 'prompt_tokens_details': {'audio_tokens': 0, 'cached_tokens': 0}}, 'model_name': 'gpt-4o-mini-2024-07-18', 'system_fingerprint': 'fp_57db37749c', 'id': 'chatcmpl-BlhoYYoUwkXFtHALdePveB4wf28oG', 'service_tier': None, 'prompt_filter_results': [{'prompt_index': 0, 'content_filter_results': {'hate': {'filtered': False, 'severity': 'safe'}, 'jailbreak': {'filtered': False, 'detected': False}, 'self_harm': {'filtered': False, 'severity': 'safe'}, 'sexual': {'filtered': False, 'severity': 'safe'}, 'violence': {'filtered': False, 'severity': 'safe'}}}], 'finish_reason': 'stop', 'logprobs': None, 'content_filter_results': {'hate': {'filtered': False, 'severity': 'safe'}, 'protected_material_code': {'filtered': False, 'detected': False}, 'protected_material_text': {'filtered': False, 'detected': False}, 'self_harm': {'filtered': False, 'severity': 'safe'}, 'sexual': {'filtered': False, 'severity': 'safe'}, 'violence': {'filtered': False, 'severity': 'safe'}}}, id='run--50d2424a-d352-4596-bc9e-7aa023cc0f40-0', usage_metadata={'input_tokens': 1467, 'output_tokens': 268, 'total_tokens': 1735, 'input_token_details': {'audio': 0, 'cache_read': 0}, 'output_token_details': {'audio': 0, 'reasoning': 0}})]}"
      ]
     },
     "execution_count": 3,
     "metadata": {},
     "output_type": "execute_result"
    }
   ],
   "source": [
    "research_agent.invoke({\"messages\":\"What is the latest news\"})"
   ]
  }
 ],
 "metadata": {
  "kernelspec": {
   "display_name": ".venv",
   "language": "python",
   "name": "python3"
  },
  "language_info": {
   "codemirror_mode": {
    "name": "ipython",
    "version": 3
   },
   "file_extension": ".py",
   "mimetype": "text/x-python",
   "name": "python",
   "nbconvert_exporter": "python",
   "pygments_lexer": "ipython3",
   "version": "3.13.2"
  }
 },
 "nbformat": 4,
 "nbformat_minor": 5
}
