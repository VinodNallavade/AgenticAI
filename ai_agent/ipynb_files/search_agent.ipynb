{
 "cells": [
  {
   "cell_type": "code",
   "execution_count": 33,
   "id": "8eb88c1c",
   "metadata": {},
   "outputs": [],
   "source": [
    "from langchain_community.tools import DuckDuckGoSearchRun,tavily_search\n",
    "from langgraph.prebuilt import create_react_agent\n",
    "from azure.identity import DefaultAzureCredential, get_bearer_token_provider\n",
    "from langchain_openai import AzureChatOpenAI\n",
    "from langgraph.checkpoint.memory import MemorySaver\n",
    "from state import AgentState\n",
    "from langgraph.types import Command\n",
    "from langchain_core.messages import HumanMessage\n",
    "from typing import Literal\n",
    "from langgraph.graph import END\n",
    "from prompt import make_system_prompt\n",
    "from langchain.tools import tool\n",
    "from dotenv import load_dotenv\n",
    "import os\n",
    "\n",
    "load_dotenv()\n",
    "\n",
    "tavily_key = os.getenv(\"TAVILY_APIKEY\")\n",
    "\n",
    "token_provider = get_bearer_token_provider(DefaultAzureCredential(),\"https://cognitiveservices.azure.com/.default\")\n",
    "model= AzureChatOpenAI(\n",
    "    api_version=\"2024-12-01-preview\",\n",
    "    azure_endpoint=\"https://azopenai-langchain.openai.azure.com/\",\n",
    "    azure_ad_token_provider= token_provider,\n",
    "    model= \"gpt-4o-mini\"\n",
    ")\n",
    "\n",
    "# Create the agent\n",
    "memory = MemorySaver()\n",
    "# Use the agent\n",
    "#config = {\"configurable\": {\"thread_id\": \"abc123\"}}\n",
    "\n",
    "\n",
    "search_tool = tavily_search.TavilySearchResults( tavily_api_key=tavily_key)\n",
    "\n",
    "\n",
    "\n",
    "search_agent = create_react_agent(\n",
    "    model, \n",
    "    [search_tool],\n",
    "    #checkpointer=memory,\n",
    "    prompt=\"You are a research-only agent. When you find data, output it and say **handover to chart agent**.\",\n",
    "    )"
   ]
  },
  {
   "cell_type": "code",
   "execution_count": 34,
   "id": "211a7784",
   "metadata": {},
   "outputs": [
    {
     "name": "stdout",
     "output_type": "stream",
     "text": [
      "{'agent': {'messages': [AIMessage(content='', additional_kwargs={'tool_calls': [{'id': 'call_xiaMqXUsQsQX3drjChGQsyde', 'function': {'arguments': '{\"query\":\"UK GDP over the past 5 years\"}', 'name': 'tavily_search_results_json'}, 'type': 'function'}], 'refusal': None}, response_metadata={'token_usage': {'completion_tokens': 26, 'prompt_tokens': 132, 'total_tokens': 158, 'completion_tokens_details': {'accepted_prediction_tokens': 0, 'audio_tokens': 0, 'reasoning_tokens': 0, 'rejected_prediction_tokens': 0}, 'prompt_tokens_details': {'audio_tokens': 0, 'cached_tokens': 0}}, 'model_name': 'gpt-4o-mini-2024-07-18', 'system_fingerprint': 'fp_efad92c60b', 'id': 'chatcmpl-BmvEpA3B7oYkv5Wer83XR7dl745Lx', 'service_tier': None, 'prompt_filter_results': [{'prompt_index': 0, 'content_filter_results': {'hate': {'filtered': False, 'severity': 'safe'}, 'jailbreak': {'filtered': False, 'detected': False}, 'self_harm': {'filtered': False, 'severity': 'safe'}, 'sexual': {'filtered': False, 'severity': 'safe'}, 'violence': {'filtered': False, 'severity': 'safe'}}}], 'finish_reason': 'tool_calls', 'logprobs': None, 'content_filter_results': {}}, id='run--7c9bb24d-afee-44c2-a2dd-48e43ceec495-0', tool_calls=[{'name': 'tavily_search_results_json', 'args': {'query': 'UK GDP over the past 5 years'}, 'id': 'call_xiaMqXUsQsQX3drjChGQsyde', 'type': 'tool_call'}], usage_metadata={'input_tokens': 132, 'output_tokens': 26, 'total_tokens': 158, 'input_token_details': {'audio': 0, 'cache_read': 0}, 'output_token_details': {'audio': 0, 'reasoning': 0}})]}}\n",
      "----\n",
      "{'tools': {'messages': [ToolMessage(content='[{\"title\": \"U.K. GDP | Historical Chart & Data - Macrotrends\", \"url\": \"https://www.macrotrends.net/global-metrics/countries/gbr/united-kingdom/gdp-gross-domestic-product\", \"content\": \"U.K. gdp for 2023 was $3,340.03B, a 8.13% increase from 2022.\\\\n   U.K. gdp for 2022 was $3,088.84B, a 1.68% decline from 2021.\\\\n   U.K. gdp for 2021 was $3,141.51B, a 16.45% increase from 2020.\\\\n   U.K. gdp for 2020 was $2,697.81B, a 5.39% decline from 2019.\\\\n\\\\n \\\\n\\\\n  Download Historical Data     Save as Image\\\\n\\\\nData Source: World Bank  \\\\n  \\\\nMLA Citation: [...] | U.K. GDP - Historical Data |\\\\n| --- |\\\\n| Year | GDP | Per Capita | Growth |\\\\n| --- | --- | --- | --- |\\\\n| 2023 | $3,340.03B | $48,867 | 0.10% |\\\\n| 2022 | $3,088.84B | $45,564 | 4.35% |\\\\n| 2021 | $3,141.51B | $46,870 | 8.67% |\\\\n| 2020 | $2,697.81B | $40,217 | \\\\\\\\-10.36% |\\\\n| 2019 | $2,851.41B | $42,663 | 1.64% |\\\\n| 2018 | $2,871.34B | $43,204 | 1.40% |\\\\n| 2017 | $2,680.15B | $40,572 | 2.66% |\\\\n| 2016 | $2,689.11B | $40,985 | 1.92% |\\\\n| 2015 | $2,927.91B | $44,964 | 2.22% |\", \"score\": 0.8409005}, {\"title\": \"UK GDP Statistics 2025 | Gross Domestic Product in the UK\", \"url\": \"https://www.theglobalstatistics.com/uk-gdp-statistics/\", \"content\": \"year2025101.5—January shows -0.1% dip from Dec-24 | 84.6Slow growth201384.486.5Recovery accelerates201487.089.7Strong, steady growth201589.691.1Moderate growth201691.293.7Slightly stronger performance post-Brexit vote201793.995.9Growth continues201895.796.2Stable expansion201996.798.5Pre-COVID stability202098.691.1Major dip due to COVID (April low: 73.2)202188.199.2Strong recovery202299.4100.1Index rebased (2022 = 100)2023100.3100.1Flatline with slight fluctuations2024100.5101.6Mild growth [...] the year2025101.5—January shows -0.1% dip from Dec-24 | Recovery accelerates201487.089.7Strong, steady growth201589.691.1Moderate growth201691.293.7Slightly stronger performance post-Brexit vote201793.995.9Growth continues201895.796.2Stable expansion201996.798.5Pre-COVID stability202098.691.1Major dip due to COVID (April low: 73.2)202188.199.2Strong recovery202299.4100.1Index rebased (2022 = 100)2023100.3100.1Flatline with slight fluctuations2024100.5101.6Mild growth throughout the [...] year2025101.5—January shows -0.1% dip from Dec-24 | 84.584.6Slow growth201384.486.5Recovery accelerates201487.089.7Strong, steady growth201589.691.1Moderate growth201691.293.7Slightly stronger performance post-Brexit vote201793.995.9Growth continues201895.796.2Stable expansion201996.798.5Pre-COVID stability202098.691.1Major dip due to COVID (April low: 73.2)202188.199.2Strong recovery202299.4100.1Index rebased (2022 = 100)2023100.3100.1Flatline with slight fluctuations2024100.5101.6Mild growth\", \"score\": 0.80698997}, {\"title\": \"United Kingdom GDP Annual Growth Rate - TRADING ECONOMICS\", \"url\": \"https://tradingeconomics.com/united-kingdom/gdp-growth-annual\", \"content\": \"The Gross Domestic Product (GDP) in the United Kingdom expanded 1.30 percent in the first quarter of 2025 over the same quarter of the previous year. GDP Annual Growth Rate in the United Kingdom averaged 2.32 percent from 1956 until 2025, reaching an all time high of 25.70 percent in the second quarter of 2021 and a record low of -21.90 percent in the second quarter of 2020. This page provides the latest reported value for - United Kingdom GDP Annual Growth Rate - plus previous releases,\", \"score\": 0.78294516}, {\"title\": \"United Kingdom GDP Growth Rate - TRADING ECONOMICS\", \"url\": \"https://tradingeconomics.com/united-kingdom/gdp-growth\", \"content\": \"The Gross Domestic Product (GDP) in the United Kingdom expanded 0.70 percent in the first quarter of 2025 over the previous quarter. GDP Growth Rate in the United Kingdom averaged 0.58 percent from 1955 until 2025, reaching an all time high of 16.80 percent in the third quarter of 2020 and a record low of -20.30 percent in the second quarter of 2020. This page provides the latest reported value for - United Kingdom GDP Growth Rate - plus previous releases, historical high and low, short-term\", \"score\": 0.77589405}]', name='tavily_search_results_json', id='4e6500ea-44b7-46e0-b125-3e25d7c9e994', tool_call_id='call_xiaMqXUsQsQX3drjChGQsyde', artifact={'query': 'UK GDP over the past 5 years', 'follow_up_questions': None, 'answer': None, 'images': [], 'results': [{'title': 'U.K. GDP | Historical Chart & Data - Macrotrends', 'url': 'https://www.macrotrends.net/global-metrics/countries/gbr/united-kingdom/gdp-gross-domestic-product', 'content': 'U.K. gdp for 2023 was $3,340.03B, a 8.13% increase from 2022.\\n   U.K. gdp for 2022 was $3,088.84B, a 1.68% decline from 2021.\\n   U.K. gdp for 2021 was $3,141.51B, a 16.45% increase from 2020.\\n   U.K. gdp for 2020 was $2,697.81B, a 5.39% decline from 2019.\\n\\n \\n\\n  Download Historical Data     Save as Image\\n\\nData Source: World Bank  \\n  \\nMLA Citation: [...] | U.K. GDP - Historical Data |\\n| --- |\\n| Year | GDP | Per Capita | Growth |\\n| --- | --- | --- | --- |\\n| 2023 | $3,340.03B | $48,867 | 0.10% |\\n| 2022 | $3,088.84B | $45,564 | 4.35% |\\n| 2021 | $3,141.51B | $46,870 | 8.67% |\\n| 2020 | $2,697.81B | $40,217 | \\\\-10.36% |\\n| 2019 | $2,851.41B | $42,663 | 1.64% |\\n| 2018 | $2,871.34B | $43,204 | 1.40% |\\n| 2017 | $2,680.15B | $40,572 | 2.66% |\\n| 2016 | $2,689.11B | $40,985 | 1.92% |\\n| 2015 | $2,927.91B | $44,964 | 2.22% |', 'score': 0.8409005, 'raw_content': None}, {'title': 'UK GDP Statistics 2025 | Gross Domestic Product in the UK', 'url': 'https://www.theglobalstatistics.com/uk-gdp-statistics/', 'content': 'year2025101.5—January shows -0.1% dip from Dec-24 | 84.6Slow growth201384.486.5Recovery accelerates201487.089.7Strong, steady growth201589.691.1Moderate growth201691.293.7Slightly stronger performance post-Brexit vote201793.995.9Growth continues201895.796.2Stable expansion201996.798.5Pre-COVID stability202098.691.1Major dip due to COVID (April low: 73.2)202188.199.2Strong recovery202299.4100.1Index rebased (2022 = 100)2023100.3100.1Flatline with slight fluctuations2024100.5101.6Mild growth [...] the year2025101.5—January shows -0.1% dip from Dec-24 | Recovery accelerates201487.089.7Strong, steady growth201589.691.1Moderate growth201691.293.7Slightly stronger performance post-Brexit vote201793.995.9Growth continues201895.796.2Stable expansion201996.798.5Pre-COVID stability202098.691.1Major dip due to COVID (April low: 73.2)202188.199.2Strong recovery202299.4100.1Index rebased (2022 = 100)2023100.3100.1Flatline with slight fluctuations2024100.5101.6Mild growth throughout the [...] year2025101.5—January shows -0.1% dip from Dec-24 | 84.584.6Slow growth201384.486.5Recovery accelerates201487.089.7Strong, steady growth201589.691.1Moderate growth201691.293.7Slightly stronger performance post-Brexit vote201793.995.9Growth continues201895.796.2Stable expansion201996.798.5Pre-COVID stability202098.691.1Major dip due to COVID (April low: 73.2)202188.199.2Strong recovery202299.4100.1Index rebased (2022 = 100)2023100.3100.1Flatline with slight fluctuations2024100.5101.6Mild growth', 'score': 0.80698997, 'raw_content': None}, {'title': 'United Kingdom GDP Annual Growth Rate - TRADING ECONOMICS', 'url': 'https://tradingeconomics.com/united-kingdom/gdp-growth-annual', 'content': 'The Gross Domestic Product (GDP) in the United Kingdom expanded 1.30 percent in the first quarter of 2025 over the same quarter of the previous year. GDP Annual Growth Rate in the United Kingdom averaged 2.32 percent from 1956 until 2025, reaching an all time high of 25.70 percent in the second quarter of 2021 and a record low of -21.90 percent in the second quarter of 2020. This page provides the latest reported value for - United Kingdom GDP Annual Growth Rate - plus previous releases,', 'score': 0.78294516, 'raw_content': None}, {'title': 'United Kingdom GDP Growth Rate - TRADING ECONOMICS', 'url': 'https://tradingeconomics.com/united-kingdom/gdp-growth', 'content': 'The Gross Domestic Product (GDP) in the United Kingdom expanded 0.70 percent in the first quarter of 2025 over the previous quarter. GDP Growth Rate in the United Kingdom averaged 0.58 percent from 1955 until 2025, reaching an all time high of 16.80 percent in the third quarter of 2020 and a record low of -20.30 percent in the second quarter of 2020. This page provides the latest reported value for - United Kingdom GDP Growth Rate - plus previous releases, historical high and low, short-term', 'score': 0.77589405, 'raw_content': None}], 'response_time': 3.08})]}}\n",
      "----\n",
      "{'agent': {'messages': [AIMessage(content='The GDP of the UK over the past five years is as follows:\\n\\n- **2023**: $3,340.03 billion\\n- **2022**: $3,088.84 billion\\n- **2021**: $3,141.51 billion\\n- **2020**: $2,697.81 billion\\n- **2019**: $2,851.41 billion\\n\\n**Source:** Macrotrends ([link](https://www.macrotrends.net/global-metrics/countries/gbr/united-kingdom/gdp-gross-domestic-product))\\n\\n**handover to chart agent**', additional_kwargs={'refusal': None}, response_metadata={'token_usage': {'completion_tokens': 130, 'prompt_tokens': 1529, 'total_tokens': 1659, 'completion_tokens_details': {'accepted_prediction_tokens': 0, 'audio_tokens': 0, 'reasoning_tokens': 0, 'rejected_prediction_tokens': 0}, 'prompt_tokens_details': {'audio_tokens': 0, 'cached_tokens': 0}}, 'model_name': 'gpt-4o-mini-2024-07-18', 'system_fingerprint': 'fp_efad92c60b', 'id': 'chatcmpl-BmvF1sImMDjWQtXxyVcckKHqNQsQy', 'service_tier': None, 'prompt_filter_results': [{'prompt_index': 0, 'content_filter_results': {'hate': {'filtered': False, 'severity': 'safe'}, 'jailbreak': {'filtered': False, 'detected': False}, 'self_harm': {'filtered': False, 'severity': 'safe'}, 'sexual': {'filtered': False, 'severity': 'safe'}, 'violence': {'filtered': False, 'severity': 'safe'}}}], 'finish_reason': 'stop', 'logprobs': None, 'content_filter_results': {'hate': {'filtered': False, 'severity': 'safe'}, 'protected_material_code': {'filtered': False, 'detected': False}, 'protected_material_text': {'filtered': False, 'detected': False}, 'self_harm': {'filtered': False, 'severity': 'safe'}, 'sexual': {'filtered': False, 'severity': 'safe'}, 'violence': {'filtered': False, 'severity': 'safe'}}}, id='run--46124dfc-c90d-4a62-b1dd-6a436dcf4af1-0', usage_metadata={'input_tokens': 1529, 'output_tokens': 130, 'total_tokens': 1659, 'input_token_details': {'audio': 0, 'cache_read': 0}, 'output_token_details': {'audio': 0, 'reasoning': 0}})]}}\n",
      "----\n"
     ]
    }
   ],
   "source": [
    "events =search_agent.stream(\n",
    "    {\n",
    "        \"messages\": [\n",
    "            HumanMessage(content=\"First, get the UK's GDP over the past 5 years, then make a line chart of it. Once you make the chart, finish.\")\n",
    "        ],\n",
    "        \"sender\":\"user\"\n",
    "    },\n",
    "    # Maximum number of steps to take in the graph\n",
    "    {\"recursion_limit\": 5}\n",
    ")\n",
    "for s in events:\n",
    "    print(s)\n",
    "    print(\"----\")"
   ]
  }
 ],
 "metadata": {
  "kernelspec": {
   "display_name": ".venv",
   "language": "python",
   "name": "python3"
  },
  "language_info": {
   "codemirror_mode": {
    "name": "ipython",
    "version": 3
   },
   "file_extension": ".py",
   "mimetype": "text/x-python",
   "name": "python",
   "nbconvert_exporter": "python",
   "pygments_lexer": "ipython3",
   "version": "3.13.2"
  }
 },
 "nbformat": 4,
 "nbformat_minor": 5
}
