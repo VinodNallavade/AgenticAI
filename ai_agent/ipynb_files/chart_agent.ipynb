{
 "cells": [
  {
   "cell_type": "code",
   "execution_count": null,
   "id": "b81fb871",
   "metadata": {},
   "outputs": [],
   "source": [
    "from langchain_experimental.tools import PythonREPLTool\n",
    "from langgraph.prebuilt import create_react_agent\n",
    "from azure.identity import DefaultAzureCredential, get_bearer_token_provider\n",
    "from langchain_openai import AzureChatOpenAI\n",
    "from langgraph.checkpoint.memory import MemorySaver\n",
    "from langchain_core.tools import tool\n",
    "from state import AgentState\n",
    "from langgraph.types import Command\n",
    "from langchain_core.messages import HumanMessage\n",
    "\n",
    "token_provider = get_bearer_token_provider(DefaultAzureCredential(),\"https://cognitiveservices.azure.com/.default\")\n",
    "model= AzureChatOpenAI(\n",
    "    api_version=\"2024-12-01-preview\",\n",
    "    azure_endpoint=\"https://azopenai-langchain.openai.azure.com/\",\n",
    "    azure_ad_token_provider= token_provider,\n",
    "    azure_deployment= \"gpt-4o-mini\",\n",
    "    model= \"gpt-4o-mini\",\n",
    "    temperature=0,\n",
    "    max_tokens=None,\n",
    "    timeout=None,\n",
    "    max_retries=2\n",
    ")\n",
    "\n",
    "# Create the agent\n",
    "memory = MemorySaver()\n",
    "\n",
    "@tool\n",
    "def python_run_tool(code: str) -> str:\n",
    "    \"\"\" This tool will help to excute the python code and print the chart\"\"\"\n",
    "    code_tool = PythonREPLTool()\n",
    "    result = code_tool.run(code)\n",
    "    result_str = f\"Successfully executed: python\\n{code}\\n\\nStdout: {result}\"\n",
    "    return (\n",
    "        result_str + \"\\n\\nIf you have completed all tasks, respond with FINAL ANSWER.\"\n",
    "    )\n",
    "\n",
    "code_agent = create_react_agent(\n",
    "    model=model,\n",
    "    checkpointer=memory,\n",
    "    tools=[python_run_tool],\n",
    "    prompt=\"You are a helpful agent going to help print the chart, If the code is not going to print the chat please get the code\"\n",
    "    )\n",
    "\n",
    "def chart_node(state: AgentState) -> AgentState:\n",
    "    result= code_agent.invoke(state)\n",
    "    state.messages[-1]=HumanMessage(\n",
    "        content=result[\"messages\"][-1].content, name=\"chart_node\"\n",
    "    )\n",
    "    return Command(goto=\"search_node\",update={\"messages\" : state})\n"
   ]
  }
 ],
 "metadata": {
  "kernelspec": {
   "display_name": ".venv",
   "language": "python",
   "name": "python3"
  },
  "language_info": {
   "codemirror_mode": {
    "name": "ipython",
    "version": 3
   },
   "file_extension": ".py",
   "mimetype": "text/x-python",
   "name": "python",
   "nbconvert_exporter": "python",
   "pygments_lexer": "ipython3",
   "version": "3.13.2"
  }
 },
 "nbformat": 4,
 "nbformat_minor": 5
}
